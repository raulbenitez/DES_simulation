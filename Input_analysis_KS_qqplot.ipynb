{
  "nbformat": 4,
  "nbformat_minor": 0,
  "metadata": {
    "colab": {
      "name": "Input analysis_KS_qqplot.ipynb",
      "provenance": []
    },
    "kernelspec": {
      "name": "python3",
      "display_name": "Python 3"
    }
  },
  "cells": [
    {
      "cell_type": "markdown",
      "metadata": {
        "id": "ZOjIeadbuFgI"
      },
      "source": [
        "# INPUT ANALYSIS:\n",
        "\n",
        "Consider an experimental sequence of observations of a certain process that you want to implement in a Discrete-Event Simulation (DES) model. For instance, you may want to model the arrival of parts to a certain station or the service times of a certain machine. The graphical way to represent the similarity between two distributions is the q-q plot, representing the empirical cummulative distribution function (cdf) of the observations and the theoretical cdf of the assumed distribution. \n",
        "\n",
        "The one-sample Kolmogorov-Smirnov test allows to test the distribution F(x) of an observed random variable against a given distribution G(x).\n",
        "\n",
        "Let's see some examples of how to proceed.\n",
        "\n"
      ]
    },
    {
      "cell_type": "markdown",
      "metadata": {
        "id": "e9aTihXTxJTK"
      },
      "source": [
        "## a) Check if a regular sequence is normally distributed:"
      ]
    },
    {
      "cell_type": "code",
      "metadata": {
        "colab": {
          "base_uri": "https://localhost:8080/"
        },
        "id": "kvEPbRtOuBZO",
        "outputId": "658821fb-c8ed-4c6b-b4d1-52d5d01c181f"
      },
      "source": [
        "from scipy import stats\n",
        "import numpy as np\n",
        "\n",
        "x_grid = np.linspace(0, 1, 100)\n",
        "x_grid"
      ],
      "execution_count": 27,
      "outputs": [
        {
          "output_type": "execute_result",
          "data": {
            "text/plain": [
              "array([0.        , 0.01010101, 0.02020202, 0.03030303, 0.04040404,\n",
              "       0.05050505, 0.06060606, 0.07070707, 0.08080808, 0.09090909,\n",
              "       0.1010101 , 0.11111111, 0.12121212, 0.13131313, 0.14141414,\n",
              "       0.15151515, 0.16161616, 0.17171717, 0.18181818, 0.19191919,\n",
              "       0.2020202 , 0.21212121, 0.22222222, 0.23232323, 0.24242424,\n",
              "       0.25252525, 0.26262626, 0.27272727, 0.28282828, 0.29292929,\n",
              "       0.3030303 , 0.31313131, 0.32323232, 0.33333333, 0.34343434,\n",
              "       0.35353535, 0.36363636, 0.37373737, 0.38383838, 0.39393939,\n",
              "       0.4040404 , 0.41414141, 0.42424242, 0.43434343, 0.44444444,\n",
              "       0.45454545, 0.46464646, 0.47474747, 0.48484848, 0.49494949,\n",
              "       0.50505051, 0.51515152, 0.52525253, 0.53535354, 0.54545455,\n",
              "       0.55555556, 0.56565657, 0.57575758, 0.58585859, 0.5959596 ,\n",
              "       0.60606061, 0.61616162, 0.62626263, 0.63636364, 0.64646465,\n",
              "       0.65656566, 0.66666667, 0.67676768, 0.68686869, 0.6969697 ,\n",
              "       0.70707071, 0.71717172, 0.72727273, 0.73737374, 0.74747475,\n",
              "       0.75757576, 0.76767677, 0.77777778, 0.78787879, 0.7979798 ,\n",
              "       0.80808081, 0.81818182, 0.82828283, 0.83838384, 0.84848485,\n",
              "       0.85858586, 0.86868687, 0.87878788, 0.88888889, 0.8989899 ,\n",
              "       0.90909091, 0.91919192, 0.92929293, 0.93939394, 0.94949495,\n",
              "       0.95959596, 0.96969697, 0.97979798, 0.98989899, 1.        ])"
            ]
          },
          "metadata": {
            "tags": []
          },
          "execution_count": 27
        }
      ]
    },
    {
      "cell_type": "markdown",
      "metadata": {
        "id": "atzxIorNyKjq"
      },
      "source": [
        "Perform the KS test with the null hypothesis that the sample is normally distributted:"
      ]
    },
    {
      "cell_type": "code",
      "metadata": {
        "colab": {
          "base_uri": "https://localhost:8080/"
        },
        "id": "V9QsnypgxdnR",
        "outputId": "8f06db8e-5cc8-48f2-9da7-b6c2fc0ab506"
      },
      "source": [
        "(d,p) = stats.kstest(x_grid, 'norm')\n",
        "print('the KS statistic is {} and the p-value for the KS test {}'.format(d,p))\n",
        "if (p<0.05):\n",
        "  print('Reject the null hypothesis')\n",
        "else:\n",
        "  print('null hypothesis can not be rejected')"
      ],
      "execution_count": 28,
      "outputs": [
        {
          "output_type": "stream",
          "text": [
            "the KS statistic is 0.5 and the p-value for the KS test 1.2131434371817858e-23\n",
            "Reject the null hypothesis\n"
          ],
          "name": "stdout"
        }
      ]
    },
    {
      "cell_type": "markdown",
      "metadata": {
        "id": "uGdftnvPy9-t"
      },
      "source": [
        "Let's visualize with a q-q plot:\n"
      ]
    },
    {
      "cell_type": "code",
      "metadata": {
        "colab": {
          "base_uri": "https://localhost:8080/",
          "height": 295
        },
        "id": "xRUaTou5zYrM",
        "outputId": "b7111253-6422-4dee-bf6f-411de065f4d5"
      },
      "source": [
        "import matplotlib.pyplot as plt\n",
        "\n",
        "fig = plt.figure()\n",
        "ax = plt.axes()\n",
        "res = stats.probplot(x_grid, dist=stats.norm, plot=ax)\n",
        "ax.set_title(\"q-q plot observations vs normal\")\n",
        "plt.show()"
      ],
      "execution_count": 29,
      "outputs": [
        {
          "output_type": "display_data",
          "data": {
            "image/png": "[encoded data removed]",
            "text/plain": [
              "<Figure size 432x288 with 1 Axes>"
            ]
          },
          "metadata": {
            "tags": [],
            "needs_background": "light"
          }
        }
      ]
    },
    {
      "cell_type": "markdown",
      "metadata": {
        "id": "_GbZzfYdyYGc"
      },
      "source": [
        "## b) Check if a uniform sequence is normally distributed:\n"
      ]
    },
    {
      "cell_type": "code",
      "metadata": {
        "colab": {
          "base_uri": "https://localhost:8080/"
        },
        "id": "i2zmMTOaxpjg",
        "outputId": "b0931707-bc0f-4522-e1c9-e286f2dbde3a"
      },
      "source": [
        "x_uniform = stats.uniform.rvs(size=100)\n",
        "(d,p) = stats.kstest(x_uniform, 'norm')\n",
        "print('the KS statistic is {} and the p-value for the KS test {}'.format(d,p))\n",
        "if (p<0.05):\n",
        "  print('Reject the null hypothesis')\n",
        "else:\n",
        "  print('null hypothesis can not be rejected')"
      ],
      "execution_count": 30,
      "outputs": [
        {
          "output_type": "stream",
          "text": [
            "the KS statistic is 0.5031003519370061 and the p-value for the KS test 5.960671915397695e-24\n",
            "Reject the null hypothesis\n"
          ],
          "name": "stdout"
        }
      ]
    },
    {
      "cell_type": "code",
      "metadata": {
        "colab": {
          "base_uri": "https://localhost:8080/",
          "height": 295
        },
        "id": "skz7mBAH0adx",
        "outputId": "bf801bd4-88f0-4f28-dd7f-dfe31f93a66b"
      },
      "source": [
        "fig = plt.figure()\n",
        "ax = plt.axes()\n",
        "res = stats.probplot(x_uniform, dist=stats.norm, plot=ax)\n",
        "ax.set_title(\"q-q plot observations vs normal\")\n",
        "plt.show()"
      ],
      "execution_count": 31,
      "outputs": [
        {
          "output_type": "display_data",
          "data": {
            "image/png": "[encoded data removed]",
            "text/plain": [
              "<Figure size 432x288 with 1 Axes>"
            ]
          },
          "metadata": {
            "tags": [],
            "needs_background": "light"
          }
        }
      ]
    },
    {
      "cell_type": "markdown",
      "metadata": {
        "id": "6rJloduRzE45"
      },
      "source": [
        "## b) Check if a gaussian sequence is normally distributed:\n"
      ]
    },
    {
      "cell_type": "code",
      "metadata": {
        "colab": {
          "base_uri": "https://localhost:8080/"
        },
        "id": "61F205SOzE45",
        "outputId": "64cd7247-8979-42ad-8b5f-350c0abd495a"
      },
      "source": [
        "x_gaussian = stats.norm.rvs(size=100)\n",
        "(d,p) = stats.kstest(x_gaussian, 'norm')\n",
        "print('the KS statistic is {} and the p-value for the KS test {}'.format(d,p))\n",
        "if (p<0.05):\n",
        "  print('Reject the null hypothesis')\n",
        "else:\n",
        "  print('null hypothesis can not be rejected')"
      ],
      "execution_count": 32,
      "outputs": [
        {
          "output_type": "stream",
          "text": [
            "the KS statistic is 0.08217062761249982 and the p-value for the KS test 0.49110006940298945\n",
            "null hypothesis can not be rejected\n"
          ],
          "name": "stdout"
        }
      ]
    },
    {
      "cell_type": "code",
      "metadata": {
        "colab": {
          "base_uri": "https://localhost:8080/",
          "height": 295
        },
        "id": "IiSZG1ujzJ41",
        "outputId": "1d1e104e-868c-4ce8-f1ed-806484c42c73"
      },
      "source": [
        "fig = plt.figure()\n",
        "ax = plt.axes()\n",
        "res = stats.probplot(x_gaussian, dist=stats.norm, plot=ax)\n",
        "ax.set_title(\"q-q plot observations vs normal\")\n",
        "plt.show()"
      ],
      "execution_count": 33,
      "outputs": [
        {
          "output_type": "display_data",
          "data": {
            "image/png": "[encoded data removed]",
            "text/plain": [
              "<Figure size 432x288 with 1 Axes>"
            ]
          },
          "metadata": {
            "tags": [],
            "needs_background": "light"
          }
        }
      ]
    },
    {
      "cell_type": "markdown",
      "metadata": {
        "id": "w6EyzJeocPvB"
      },
      "source": [
        "EXERCISE: \n",
        "\n",
        "Generate a sequence of 100 observations distributed according to a poisson distribution and check if it follows a Poisson or a Gamma\n",
        "\n"
      ]
    },
    {
      "cell_type": "code",
      "metadata": {
        "id": "MYZcvRi40d5X"
      },
      "source": [
        ""
      ],
      "execution_count": null,
      "outputs": []
    }
  ]
}