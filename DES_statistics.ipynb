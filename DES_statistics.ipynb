{
  "nbformat": 4,
  "nbformat_minor": 0,
  "metadata": {
    "colab": {
      "name": "DES_statistics.ipynb",
      "provenance": []
    },
    "kernelspec": {
      "name": "python3",
      "display_name": "Python 3"
    }
  },
  "cells": [
    {
      "cell_type": "markdown",
      "metadata": {
        "id": "y9HVx4FvoW3i"
      },
      "source": [
        "# Basic statistics on Discrete Event Simulation (DES) systems:"
      ]
    },
    {
      "cell_type": "markdown",
      "metadata": {
        "id": "RWrw0uEbqOL1"
      },
      "source": [
        "## Random sampling:\n",
        "\n",
        "Let's generate N observations of an univariate variable following a normal distribution with mean $\\mu$ and standard deviation $\\sigma$:"
      ]
    },
    {
      "cell_type": "code",
      "metadata": {
        "id": "Dfya2dm3qdOV"
      },
      "source": [
        "import numpy as np\n",
        "N = 1000\n",
        "mu = 0.6\n",
        "sigma = 0.1\n",
        "x = np.random.normal(mu, sigma, N)"
      ],
      "execution_count": 1,
      "outputs": []
    },
    {
      "cell_type": "markdown",
      "metadata": {
        "id": "imJ8474rqh4p"
      },
      "source": [
        "Plot the histogram with nbins bins: "
      ]
    },
    {
      "cell_type": "code",
      "metadata": {
        "colab": {
          "base_uri": "https://localhost:8080/",
          "height": 428
        },
        "id": "kAh2boRNqjOl",
        "outputId": "dd40b84b-8d7d-462b-c0bb-d2915d41912d"
      },
      "source": [
        "import matplotlib.pyplot as plt\n",
        "\n",
        "nbins = 50\n",
        "fig = plt.figure(figsize=(14,7))\n",
        "plt.hist(x,50)\n",
        "plt.show()"
      ],
      "execution_count": 2,
      "outputs": [
        {
          "output_type": "display_data",
          "data": {
            "image/png": "[encoded data removed]",
            "text/plain": [
              "<Figure size 1008x504 with 1 Axes>"
            ]
          },
          "metadata": {
            "needs_background": "light"
          }
        }
      ]
    },
    {
      "cell_type": "markdown",
      "metadata": {
        "id": "NexCCul_Gs2T"
      },
      "source": [
        "Random generation of inter-arrival times and service times:\n",
        "\n",
        "Consider a system in which parts arrive to a robotic station with an uniform probability distribution with a range from 1 to 3 minutes $U(1,3)$. The service times of the robotic station follows a gaussian distribution with mean 1.3 minutes and a standard deviation of 0.6 minutes. To generate a random sample of $N=200$ inter-arrival times and service times we proceed as follows: \n"
      ]
    },
    {
      "cell_type": "code",
      "metadata": {
        "colab": {
          "base_uri": "https://localhost:8080/"
        },
        "id": "Tb0X4xpkHGDd",
        "outputId": "3d21a5f1-42d5-425b-8b5f-2d373026ded9"
      },
      "source": [
        "N = 200\n",
        "inter_arrivals = np.random.uniform(low=1,high=4,size=N)\n",
        "print('Inter arrivals {}'.format(inter_arrivals))\n",
        "service_times = x = np.random.normal(1.3, 0.3, N)\n",
        "print('service times {}'.format(service_times))"
      ],
      "execution_count": 4,
      "outputs": [
        {
          "output_type": "stream",
          "name": "stdout",
          "text": [
            "Inter arrivals [2.05316663 2.41084342 1.75539686 3.42992311 3.64448991 2.08956103\n",
            " 3.31786335 1.8466544  1.06112994 3.22989867 2.46662034 3.02436227\n",
            " 2.81555049 3.89895576 3.95636941 3.27374508 3.13459485 3.66872833\n",
            " 1.17279533 1.17258169 3.96508123 3.1048684  3.18322998 3.15331963\n",
            " 1.41849876 2.35998056 2.38617663 1.15713399 2.15243723 2.50959981\n",
            " 3.23592156 3.92536776 1.11989046 3.21934305 3.39078071 1.85516561\n",
            " 3.40620359 3.96244904 2.50167515 3.11207405 1.55357726 2.84908708\n",
            " 3.70767454 1.04361529 3.9437415  1.9592733  2.95972062 1.93306058\n",
            " 2.48969472 3.97053261 1.95155393 3.34748285 3.32625055 1.26580543\n",
            " 2.59302759 2.96313547 3.47688946 1.04128233 2.92523536 1.51653059\n",
            " 2.74075465 2.74306476 1.26846296 2.48802274 2.08714593 1.60274078\n",
            " 3.94596759 2.33038549 2.13069851 3.60403395 3.98324684 2.60677323\n",
            " 2.63057048 1.94571259 1.4013941  2.58245073 1.42577491 1.96822965\n",
            " 2.6593484  1.00524663 3.07911173 2.11541196 1.50127308 3.88944592\n",
            " 2.60120946 3.7551395  1.67503066 1.47520533 1.17931902 3.16957743\n",
            " 3.11111156 1.2442579  2.34742047 1.04062678 1.92353149 3.52579616\n",
            " 3.51651681 2.78319613 1.48224227 3.07169221 3.61169866 1.39664544\n",
            " 1.14521895 1.50237885 1.07128381 3.0786089  3.71519843 2.91155321\n",
            " 1.1077766  3.51553188 2.78164853 2.51506074 2.30167628 2.70386996\n",
            " 1.0129063  3.98989577 2.6510075  3.30178228 2.85169205 3.6862201\n",
            " 3.11231185 2.30959096 1.21811357 2.46199538 2.52864944 3.80610983\n",
            " 2.77631739 1.26414791 1.75232809 3.10750315 2.40737112 3.68676847\n",
            " 1.89840786 1.64174585 3.26366661 3.8329932  2.67195477 1.71311865\n",
            " 3.20417337 1.27783509 3.16756653 2.81166747 2.01546844 3.52724445\n",
            " 2.73212452 3.96226016 2.36506527 1.29767763 3.21572555 1.90151089\n",
            " 3.27469686 3.1364153  1.92609807 1.43095165 1.12719491 1.80753372\n",
            " 1.50206876 1.40338295 2.98629336 1.60522881 1.8051503  2.61538884\n",
            " 3.23952819 3.61341717 3.70721154 3.95780327 1.32594807 3.74632056\n",
            " 3.27951455 2.24182063 2.79850257 3.52478967 3.70891464 1.79985649\n",
            " 2.66634362 2.70986288 2.6666014  2.37307768 1.69452896 1.96001473\n",
            " 3.42212648 3.54050224 3.21063541 1.7963102  1.28655869 3.88891873\n",
            " 1.07978177 2.27344077 1.99460917 2.1357881  1.72846102 2.63397458\n",
            " 3.56377518 3.73442135 2.81775693 1.27683169 1.3771875  3.95584214\n",
            " 2.4311775  1.35439946]\n",
            "service times [1.2083231  1.32573903 1.02891217 1.58161854 0.85470581 0.92911952\n",
            " 1.11241479 1.49252728 1.08775545 1.62387502 1.19423862 1.70340097\n",
            " 1.37426565 1.40745532 1.84600748 1.1311153  1.82929038 1.05416335\n",
            " 1.43031824 1.39997318 1.11844819 1.63888247 1.70587337 0.80336668\n",
            " 1.41929361 2.04164455 1.59229016 1.52572181 1.49289577 0.98426985\n",
            " 1.10180959 0.94051105 1.05673668 0.78265697 1.50586041 1.42033377\n",
            " 1.34103696 1.34090949 1.55939611 0.90362684 0.98195152 1.17141053\n",
            " 1.35902279 1.6386329  1.17039465 1.18351323 1.47840854 1.00878396\n",
            " 1.64894766 1.41023029 0.9424891  0.69537101 1.16047219 1.65704032\n",
            " 1.38263654 2.07035258 1.30247218 1.41872264 1.81843532 0.96308878\n",
            " 1.56624992 1.24541104 1.67564554 1.51110251 1.41402618 1.40099379\n",
            " 1.05568039 1.23746563 0.84960185 1.2598977  1.09503005 1.11610513\n",
            " 1.55531791 1.18961718 1.3778648  0.63977839 1.30063177 0.33103673\n",
            " 1.39107417 0.84414543 1.85936962 1.49492167 1.76122411 1.3044516\n",
            " 0.92926967 1.33426268 1.21959429 1.72359037 0.75410853 1.26728964\n",
            " 1.37817972 1.78644035 1.76587429 1.26576327 0.91392165 1.36849849\n",
            " 1.25350063 1.20223526 1.50133915 1.50928253 1.6913364  1.13323063\n",
            " 1.20845606 1.85962645 1.98174975 1.16999777 1.55966029 0.86283215\n",
            " 1.4546492  1.66530223 0.93906455 0.72942715 1.54826065 0.83313453\n",
            " 1.01621576 1.09630654 0.96668011 0.95327188 1.41084641 1.04346509\n",
            " 0.95391248 1.23524128 1.27502161 1.39555223 1.06214182 1.08457393\n",
            " 1.5735449  1.05777603 1.39757287 1.52977298 1.15155924 2.09825494\n",
            " 1.30423416 0.5940431  1.54304639 1.07640829 1.41578502 1.15471108\n",
            " 0.79228172 1.48901362 1.17157911 1.53963499 1.12867877 1.21071107\n",
            " 1.07078486 0.99654836 1.57882086 1.49139088 1.55228375 1.86552173\n",
            " 1.48366872 1.17443546 1.35461637 1.03256238 0.81638118 1.02454037\n",
            " 1.31292754 0.62757598 1.70332775 1.41203293 1.11902501 0.90348232\n",
            " 0.98560208 1.39111063 1.10585967 1.05448244 0.67277985 1.86730917\n",
            " 1.2120365  1.87229419 1.25064767 1.57058959 1.40732233 1.40011347\n",
            " 1.30934734 1.03809148 1.28343352 1.02487543 2.03730415 1.37117997\n",
            " 1.74640154 1.3483745  1.55806193 0.68000017 1.29023674 1.34466753\n",
            " 0.94644225 1.44333692 0.84722861 0.62196286 1.48595277 1.44534132\n",
            " 1.31524671 0.90557817 0.9967982  1.77766553 1.34109045 1.28113394\n",
            " 1.37724276 1.48256971]\n"
          ]
        }
      ]
    },
    {
      "cell_type": "markdown",
      "metadata": {
        "id": "MXz_Rit8rSOJ"
      },
      "source": [
        "## Hypothesis testing: t-test"
      ]
    },
    {
      "cell_type": "markdown",
      "metadata": {
        "id": "S24qtuPYrbjx"
      },
      "source": [
        "# Hypothesis testing\n",
        "\n",
        "Consider a sample of $n=25$ simulations of a DES system in which each simulation provides an estimation of the queue length of a machine. The values are the following: "
      ]
    },
    {
      "cell_type": "code",
      "metadata": {
        "id": "VTtdi5zXoJco"
      },
      "source": [
        "x_DES = [ 1.54805813,  1.00602165,  1.37433824,  1.79220994,  0.93106753,\n",
        "        1.20733477,  0.51645397,  1.81174653,  1.17998772,  1.46656456,\n",
        "        0.6901881 , -0.07863154,  1.73071763,  0.53812963,  1.87345268,\n",
        "        0.45561314,  1.4413871 ,  1.55092039,  0.81818829,  1.28637081,\n",
        "        1.05006276,  1.34923019,  1.16052882,  1.49266933,  2.03781074]"
      ],
      "execution_count": 5,
      "outputs": []
    },
    {
      "cell_type": "code",
      "metadata": {
        "id": "RYK7nHoMZBc_"
      },
      "source": [
        "x_DES = [5.37, 1.98, 5.29, 3.82, 6.74, 5.49]"
      ],
      "execution_count": 11,
      "outputs": []
    },
    {
      "cell_type": "markdown",
      "metadata": {
        "id": "Yh28cL3NxFdl"
      },
      "source": [
        "The sample mean is "
      ]
    },
    {
      "cell_type": "code",
      "metadata": {
        "colab": {
          "base_uri": "https://localhost:8080/"
        },
        "id": "64n7hG4ns0kJ",
        "outputId": "71b1836b-98d1-4ffb-f278-5be704566dc4"
      },
      "source": [
        "import numpy as np\n",
        "np.mean(x_DES)"
      ],
      "execution_count": 12,
      "outputs": [
        {
          "output_type": "execute_result",
          "data": {
            "text/plain": [
              "4.781666666666667"
            ]
          },
          "metadata": {},
          "execution_count": 12
        }
      ]
    },
    {
      "cell_type": "markdown",
      "metadata": {
        "id": "UZeImAvTsENG"
      },
      "source": [
        "Test the hypothesis that the average queue length of the system is $\\mu_0 = 1.2$"
      ]
    },
    {
      "cell_type": "code",
      "metadata": {
        "colab": {
          "base_uri": "https://localhost:8080/"
        },
        "id": "hx0p-7epqLMq",
        "outputId": "97fd1938-03ae-4a7e-c58a-bf73faae8d59"
      },
      "source": [
        "# Standardized Test Statistic\n",
        "NSIMUL = len(x_DES)\n",
        "sample_mean = np.mean(x_DES) # sample mean\n",
        "sample_std = np.std(x_DES,ddof=1) # sample standard deviation\n",
        "sem = sample_std/np.sqrt(NSIMUL) #standard error of the mean\n",
        "\n",
        "print('Sample mean = {}, sample std = {} and s.e.m = {}'.format(sample_mean,sample_std,sem))"
      ],
      "execution_count": 13,
      "outputs": [
        {
          "output_type": "stream",
          "name": "stdout",
          "text": [
            "Sample mean = 4.781666666666667, sample std = 1.656229653963081 and s.e.m = 0.6761529248459833\n"
          ]
        }
      ]
    },
    {
      "cell_type": "markdown",
      "metadata": {
        "id": "2Jb8dolKtq0z"
      },
      "source": [
        "Get the observed and critical t-statistic values at the $95\\%$ significance level ($\\alpha= 0.05$):\n",
        "\n",
        "In order to get the critical t-value \n",
        "\n",
        "$t_{\\alpha/2,\\text{df}}$\n",
        "\n",
        "you need the Percent point function (inverse of cdf — percentiles): https://docs.scipy.org/doc/scipy/reference/generated/scipy.stats.t.html"
      ]
    },
    {
      "cell_type": "code",
      "metadata": {
        "id": "mffBGX3zsCbY"
      },
      "source": [
        "from scipy.stats import t\n",
        "mu_0 = 4.25\n",
        "tstar = np.abs((sample_mean-mu_0)/sem)\n",
        "t = t.ppf(0.975,NSIMUL-1)"
      ],
      "execution_count": 17,
      "outputs": []
    },
    {
      "cell_type": "markdown",
      "metadata": {
        "id": "II1vlnalzh7k"
      },
      "source": [
        "The condifence interval for the sample estimation of the sample mean at the $95\\%$ significance level ($\\alpha= 0.05$) is given by:\n",
        "\n",
        "\n",
        "$[\\mu_{sample} - t_{\\alpha/2,\\text{df}} \\frac{\\sigma_{sample}}{\\sqrt{N}} , \\mu_{sample} + t_{\\alpha/2,\\text{df}} \\frac{\\sigma_{sample}}{\\sqrt{N}} ]$\n"
      ]
    },
    {
      "cell_type": "markdown",
      "metadata": {
        "id": "5Kx1ekxF5Rwv"
      },
      "source": [
        "Three equivalent but different ways to check the hypothesis:\n",
        "\n",
        "1. if $\\mu_0$ is included in the confidence interval the null hypothesis can not be rejected\n"
      ]
    },
    {
      "cell_type": "code",
      "metadata": {
        "colab": {
          "base_uri": "https://localhost:8080/"
        },
        "id": "jurOvoe_5lmk",
        "outputId": "5c4e46aa-54ac-4188-990e-275033234254"
      },
      "source": [
        "print('Conficende Internval = [{},{}]'.format(sample_mean - t*sem,sample_mean + t*sem))\n",
        "(mu_0 > sample_mean - t*sem) & (mu_0 < sample_mean + t*sem)"
      ],
      "execution_count": 18,
      "outputs": [
        {
          "output_type": "stream",
          "name": "stdout",
          "text": [
            "Conficende Internval = [3.0435602392836514,6.5197730940496825]\n"
          ]
        },
        {
          "output_type": "execute_result",
          "data": {
            "text/plain": [
              "True"
            ]
          },
          "metadata": {},
          "execution_count": 18
        }
      ]
    },
    {
      "cell_type": "markdown",
      "metadata": {
        "id": "hbswa0QHx7gL"
      },
      "source": [
        "2. If $|t^*| < t$ there is not enough evidence to reject the null hypothesis that $\\mu_{sample} = \\mu_0$"
      ]
    },
    {
      "cell_type": "code",
      "metadata": {
        "id": "coyQk02CvYfS",
        "colab": {
          "base_uri": "https://localhost:8080/"
        },
        "outputId": "155f30dd-785a-4be7-bc58-3ac835b439da"
      },
      "source": [
        "print('t star = {}'.format(tstar))\n",
        "print('t = {}'.format(t))"
      ],
      "execution_count": 19,
      "outputs": [
        {
          "output_type": "stream",
          "name": "stdout",
          "text": [
            "t star = 0.7863112723911861\n",
            "t = 2.5705818366147395\n"
          ]
        }
      ]
    },
    {
      "cell_type": "code",
      "metadata": {
        "colab": {
          "base_uri": "https://localhost:8080/"
        },
        "id": "3C9t6DtjuI0l",
        "outputId": "14d6e0b4-97fc-4bb1-c836-e6fb7f5daade"
      },
      "source": [
        "np.abs(tstar) < t"
      ],
      "execution_count": null,
      "outputs": [
        {
          "output_type": "execute_result",
          "data": {
            "text/plain": [
              "True"
            ]
          },
          "metadata": {},
          "execution_count": 24
        }
      ]
    },
    {
      "cell_type": "markdown",
      "metadata": {
        "id": "XSPHkRxiuX4L"
      },
      "source": [
        "3. Obtain the proabability of a Type I error ($\\alpha$) of erroneosuly rejecting a correct null hypothesis. Null hypothesis can be rejected when the p-value is lower than 0.05:\n",
        "\n",
        "$\\alpha$ = Prob(type I error) "
      ]
    },
    {
      "cell_type": "code",
      "metadata": {
        "colab": {
          "base_uri": "https://localhost:8080/"
        },
        "id": "1sAp5kRtuQMx",
        "outputId": "65265c1a-ff1b-49c6-aa26-9198652ed5a5"
      },
      "source": [
        "from scipy.stats import t\n",
        "p = 2*(1-t.cdf(tstar,NSIMUL-1))  \n",
        "\n",
        "print('p-value = {}'.format(p))"
      ],
      "execution_count": 20,
      "outputs": [
        {
          "output_type": "stream",
          "name": "stdout",
          "text": [
            "p-value = 0.46729723997929007\n"
          ]
        }
      ]
    },
    {
      "cell_type": "markdown",
      "metadata": {
        "id": "gzIPr29-u24j"
      },
      "source": [
        "If $p<0.05$, we reject the null hypothesis that the machine has a mean queue length of $\\mu_0$"
      ]
    },
    {
      "cell_type": "markdown",
      "metadata": {
        "id": "Q0n7WD6bu6nG"
      },
      "source": [
        "Now with the scipy libraries"
      ]
    },
    {
      "cell_type": "code",
      "metadata": {
        "id": "Y9ggV_bqu89h",
        "colab": {
          "base_uri": "https://localhost:8080/"
        },
        "outputId": "e80db127-b2f2-4dac-a01b-cb21cf1a8cc2"
      },
      "source": [
        "from scipy import stats\n",
        "stats.ttest_1samp(x_DES, 4.25)"
      ],
      "execution_count": 21,
      "outputs": [
        {
          "output_type": "execute_result",
          "data": {
            "text/plain": [
              "Ttest_1sampResult(statistic=0.7863112723911863, pvalue=0.46729723997929007)"
            ]
          },
          "metadata": {},
          "execution_count": 21
        }
      ]
    },
    {
      "cell_type": "markdown",
      "metadata": {
        "id": "mg5KEEUh6qmx"
      },
      "source": [
        "## Power Analysis:\n",
        "\n",
        "Let's consider that there is no sufficient statistical evidence to reject the null hypothesis. Then we should determine the probability of a type II error, that is when the null hypothesis is not true but we failed to reject it due to limitations in the sample size or to large variability in the sample. \n",
        "\n",
        "Then we define \n",
        "\n",
        "$\\beta$ = Prob(Type II error)\n",
        "\n",
        "We need to specify the standardized effect size that we want to detect, i.e., the normalized deviations from the sample mean:\n",
        "\n",
        "$\\delta = \\frac{\\mu_{sample} - \\mu_1}{\\sigma_{sample}/\\sqrt{n}}$"
      ]
    },
    {
      "cell_type": "markdown",
      "metadata": {
        "id": "atA22cof9-uW"
      },
      "source": [
        "Imageine that we want to detect deviations of 0.1 from the sample mean, then the effect size would be"
      ]
    },
    {
      "cell_type": "code",
      "metadata": {
        "colab": {
          "base_uri": "https://localhost:8080/"
        },
        "id": "LIeIh5em-Fqy",
        "outputId": "8687d1c4-b8f1-4eaf-a926-9f5f94430a85"
      },
      "source": [
        "effect_size = 0.1/sem\n",
        "print('effect size = {}'.format(effect_size))"
      ],
      "execution_count": 26,
      "outputs": [
        {
          "output_type": "stream",
          "name": "stdout",
          "text": [
            "effect size = 0.14789553712686873\n"
          ]
        }
      ]
    },
    {
      "cell_type": "code",
      "metadata": {
        "id": "iUaJqkJQuxGd",
        "colab": {
          "base_uri": "https://localhost:8080/"
        },
        "outputId": "a9ffafdb-fd18-4d84-8edb-c56cee3827cb"
      },
      "source": [
        "from statsmodels.stats.power import ttest_power, tt_ind_solve_power\n",
        "\n",
        "n = tt_ind_solve_power(effect_size=1,alpha=0.05,power=0.8,ratio=1.0, alternative='two-sided')\n",
        "power = tt_ind_solve_power(effect_size=1,nobs1= NSIMUL,alpha=0.05,ratio=1.0, alternative='two-sided')\n",
        "\n",
        "print('Number of simulations needed: {}'.format(n))\n",
        "print('Statistical power achieved with current simulations: {}'.format(power))\n",
        "print('Probability of type II error: {}'.format(1-power))"
      ],
      "execution_count": 27,
      "outputs": [
        {
          "output_type": "stream",
          "name": "stdout",
          "text": [
            "Number of simulations needed: 16.71472257227619\n",
            "Statistical power achieved with current simulations: 0.3473536967037645\n",
            "Probability of type II error: 0.6526463032962355\n"
          ]
        }
      ]
    },
    {
      "cell_type": "markdown",
      "metadata": {
        "id": "VJrIUi0gkRLX"
      },
      "source": [
        "More stuff"
      ]
    },
    {
      "cell_type": "code",
      "metadata": {
        "id": "T_6XqxAvxfLN",
        "outputId": "4c3086dd-c277-445e-e698-b7bb02a3c9ee",
        "colab": {
          "base_uri": "https://localhost:8080/"
        }
      },
      "source": [
        "from scipy.stats import t\n",
        "NSIMUL = 10\n",
        "t.ppf(0.975,NSIMUL-1)\n",
        "\n",
        "for kn in range(10,50,1):\n",
        "  tt = t.ppf(0.975,kn)\n",
        "  print('t for {}  = {}'.format(kn,tt))"
      ],
      "execution_count": 46,
      "outputs": [
        {
          "output_type": "stream",
          "name": "stdout",
          "text": [
            "t for 10  = 2.2281388519649385\n",
            "t for 11  = 2.200985160082949\n",
            "t for 12  = 2.1788128296634177\n",
            "t for 13  = 2.1603686564610127\n",
            "t for 14  = 2.1447866879169273\n",
            "t for 15  = 2.131449545559323\n",
            "t for 16  = 2.1199052992210112\n",
            "t for 17  = 2.1098155778331806\n",
            "t for 18  = 2.10092204024096\n",
            "t for 19  = 2.093024054408263\n",
            "t for 20  = 2.0859634472658364\n",
            "t for 21  = 2.079613844727662\n",
            "t for 22  = 2.0738730679040147\n",
            "t for 23  = 2.0686576104190406\n",
            "t for 24  = 2.0638985616280205\n",
            "t for 25  = 2.059538552753294\n",
            "t for 26  = 2.055529438642871\n",
            "t for 27  = 2.0518305164802833\n",
            "t for 28  = 2.048407141795244\n",
            "t for 29  = 2.045229642132703\n",
            "t for 30  = 2.0422724563012373\n",
            "t for 31  = 2.0395134463964077\n",
            "t for 32  = 2.036933343460101\n",
            "t for 33  = 2.0345152974493383\n",
            "t for 34  = 2.032244509317718\n",
            "t for 35  = 2.0301079282503425\n",
            "t for 36  = 2.0280940009804502\n",
            "t for 37  = 2.0261924630291093\n",
            "t for 38  = 2.024394164575136\n",
            "t for 39  = 2.022690911734728\n",
            "t for 40  = 2.0210753829953374\n",
            "t for 41  = 2.0195409639828936\n",
            "t for 42  = 2.018081697095881\n",
            "t for 43  = 2.0166921941428133\n",
            "t for 44  = 2.015367569912941\n",
            "t for 45  = 2.0141033848332923\n",
            "t for 46  = 2.0128955952945886\n",
            "t for 47  = 2.0117405104757546\n",
            "t for 48  = 2.0106347546964454\n",
            "t for 49  = 2.009575234489209\n"
          ]
        }
      ]
    },
    {
      "cell_type": "code",
      "metadata": {
        "id": "38cbnXOMkTss",
        "outputId": "9d4f0094-4672-44ab-a208-daed84cdba76",
        "colab": {
          "base_uri": "https://localhost:8080/"
        }
      },
      "source": [
        "from scipy.stats import norm\n",
        "norm.ppf(0.975)"
      ],
      "execution_count": 35,
      "outputs": [
        {
          "output_type": "execute_result",
          "data": {
            "text/plain": [
              "1.959963984540054"
            ]
          },
          "metadata": {},
          "execution_count": 35
        }
      ]
    },
    {
      "cell_type": "code",
      "metadata": {
        "id": "e_wUj1xQke5V",
        "outputId": "2b26f91e-e4a2-410b-8d62-7fa426a4947f",
        "colab": {
          "base_uri": "https://localhost:8080/"
        }
      },
      "source": [
        "x_vec = [3.25,17.83,15.43,7.71,3.11,4.91,9.45,5.27,6.24,11.07]\n",
        "NSIMUL = len(x_vec)\n",
        "sample_mean = np.mean(x_vec) # sample mean\n",
        "sample_std = np.std(x_vec,ddof=1) # sample standard deviation\n",
        "sem = sample_std/np.sqrt(NSIMUL) #standard error of the mean\n",
        "print('Sample mean = {}, sample std = {} and s.e.m = {}'.format(sample_mean,sample_std,sem))"
      ],
      "execution_count": 43,
      "outputs": [
        {
          "output_type": "stream",
          "name": "stdout",
          "text": [
            "Sample mean = 8.426999999999998, sample std = 5.03537717885496 and s.e.m = 1.5923260763214715\n"
          ]
        }
      ]
    },
    {
      "cell_type": "code",
      "metadata": {
        "id": "ULj2QD10lxPV",
        "outputId": "874868cf-e43a-4177-ac4f-1c0d3a89ff6e",
        "colab": {
          "base_uri": "https://localhost:8080/"
        }
      },
      "source": [
        "epsilon=2\n",
        "Rmin = np.int(np.ceil((norm.ppf(0.975)*sample_std/epsilon)**2))\n",
        "Rmin"
      ],
      "execution_count": 61,
      "outputs": [
        {
          "output_type": "execute_result",
          "data": {
            "text/plain": [
              "25"
            ]
          },
          "metadata": {},
          "execution_count": 61
        }
      ]
    },
    {
      "cell_type": "code",
      "metadata": {
        "id": "D1vhp5fWm1Hl",
        "outputId": "9f6df72c-c942-488c-d13a-fd91f5e44654",
        "colab": {
          "base_uri": "https://localhost:8080/"
        }
      },
      "source": [
        "norm.ppf(0.975)"
      ],
      "execution_count": 62,
      "outputs": [
        {
          "output_type": "execute_result",
          "data": {
            "text/plain": [
              "1.959963984540054"
            ]
          },
          "metadata": {},
          "execution_count": 62
        }
      ]
    },
    {
      "cell_type": "code",
      "metadata": {
        "id": "vqWviSq8nHts",
        "outputId": "7c0416e1-3bd1-4234-900c-1aa8db7f15e9",
        "colab": {
          "base_uri": "https://localhost:8080/"
        }
      },
      "source": [
        "for kn in range(Rmin,2*Rmin,1):\n",
        "  tt = t.ppf(0.975,kn-1)\n",
        "  print('t for {}  = {}'.format(kn,(tt*sample_std/epsilon)**2))"
      ],
      "execution_count": 65,
      "outputs": [
        {
          "output_type": "stream",
          "name": "stdout",
          "text": [
            "t for 25  = 27.001054160382505\n",
            "t for 26  = 26.88709459818864\n",
            "t for 27  = 26.782519217044214\n",
            "t for 28  = 26.686215737198072\n",
            "t for 29  = 26.597240841385286\n",
            "t for 30  = 26.514789287893095\n",
            "t for 31  = 26.438169555893186\n",
            "t for 32  = 26.366784467070175\n",
            "t for 33  = 26.300115636996427\n",
            "t for 34  = 26.237710901841158\n",
            "t for 35  = 26.179174077021877\n",
            "t for 36  = 26.12415655857572\n",
            "t for 37  = 26.072350391861825\n",
            "t for 38  = 26.023482517097232\n",
            "t for 39  = 25.977309982142394\n",
            "t for 40  = 25.933615612422315\n",
            "t for 41  = 25.892205657326993\n",
            "t for 42  = 25.852905380384524\n",
            "t for 43  = 25.815557627189104\n",
            "t for 44  = 25.780020468696762\n",
            "t for 45  = 25.74616540160733\n",
            "t for 46  = 25.713875798029104\n",
            "t for 47  = 25.683045565060972\n",
            "t for 48  = 25.653577981872626\n",
            "t for 49  = 25.62538468746047\n"
          ]
        }
      ]
    },
    {
      "cell_type": "code",
      "metadata": {
        "id": "bLg--6BCntnR",
        "outputId": "f266f818-f56f-4222-fed0-afddea45c7ee",
        "colab": {
          "base_uri": "https://localhost:8080/"
        }
      },
      "source": [
        "Rmin"
      ],
      "execution_count": 60,
      "outputs": [
        {
          "output_type": "execute_result",
          "data": {
            "text/plain": [
              "25.0"
            ]
          },
          "metadata": {},
          "execution_count": 60
        }
      ]
    },
    {
      "cell_type": "code",
      "metadata": {
        "id": "2e7B_O1lnzd8"
      },
      "source": [
        ""
      ],
      "execution_count": null,
      "outputs": []
    }
  ]
}