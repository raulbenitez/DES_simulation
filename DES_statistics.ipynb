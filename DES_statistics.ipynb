{
  "nbformat": 4,
  "nbformat_minor": 0,
  "metadata": {
    "colab": {
      "name": "DES_statistics.ipynb",
      "provenance": []
    },
    "kernelspec": {
      "name": "python3",
      "display_name": "Python 3"
    }
  },
  "cells": [
    {
      "cell_type": "markdown",
      "metadata": {
        "id": "y9HVx4FvoW3i"
      },
      "source": [
        "# Basic statistics on Discrete Event Simulation (DES) systems:"
      ]
    },
    {
      "cell_type": "markdown",
      "metadata": {
        "id": "RWrw0uEbqOL1"
      },
      "source": [
        "## Random sampling:\n",
        "\n",
        "Let's generate N observations of an univariate variable following a normal distribution with mean $\\mu$ and standard deviation $\\sigma$:"
      ]
    },
    {
      "cell_type": "code",
      "metadata": {
        "id": "Dfya2dm3qdOV"
      },
      "source": [
        "import numpy as np\n",
        "N = 1000\n",
        "mu = 0.6\n",
        "sigma = 0.1\n",
        "x = np.random.normal(mu, sigma, N)"
      ],
      "execution_count": 1,
      "outputs": []
    },
    {
      "cell_type": "markdown",
      "metadata": {
        "id": "imJ8474rqh4p"
      },
      "source": [
        "Plot the histogram with nbins bins: "
      ]
    },
    {
      "cell_type": "code",
      "metadata": {
        "colab": {
          "base_uri": "https://localhost:8080/",
          "height": 428
        },
        "id": "kAh2boRNqjOl",
        "outputId": "980e9cde-b72f-45a9-a4c5-4a414300e2b4"
      },
      "source": [
        "import matplotlib.pyplot as plt\n",
        "\n",
        "nbins = 50\n",
        "fig = plt.figure(figsize=(14,7))\n",
        "plt.hist(x,50)\n",
        "plt.show()"
      ],
      "execution_count": 2,
      "outputs": [
        {
          "output_type": "display_data",
          "data": {
            "image/png": "[encoded data removed]",
            "text/plain": [
              "<Figure size 1008x504 with 1 Axes>"
            ]
          },
          "metadata": {
            "needs_background": "light"
          }
        }
      ]
    },
    {
      "cell_type": "markdown",
      "metadata": {
        "id": "NexCCul_Gs2T"
      },
      "source": [
        "Random generation of inter-arrival times and service times:\n",
        "\n",
        "Consider a system in which parts arrive to a robotic station with an uniform probability distribution with a range from 1 to 3 minutes $U(1,3)$. The service times of the robotic station follows a gaussian distribution with mean 1.3 minutes and a standard deviation of 0.6 minutes. To generate a random sample of $N=200$ inter-arrival times and service times we proceed as follows: \n"
      ]
    },
    {
      "cell_type": "code",
      "metadata": {
        "colab": {
          "base_uri": "https://localhost:8080/"
        },
        "id": "Tb0X4xpkHGDd",
        "outputId": "b32a3784-032b-43e0-fe63-782b41074af9"
      },
      "source": [
        "N = 200\n",
        "inter_arrivals = np.random.randint(low=1,high=4,size=N)\n",
        "print('Inter arrivals {}'.format(inter_arrivals))\n",
        "service_times = x = np.random.normal(1.3, 0.3, N)\n",
        "print('service times {}'.format(service_times))"
      ],
      "execution_count": 3,
      "outputs": [
        {
          "output_type": "stream",
          "name": "stdout",
          "text": [
            "Inter arrivals [3 3 3 2 3 3 2 2 3 1 3 1 3 2 1 2 3 3 2 1 2 3 1 3 3 1 2 1 2 3 2 2 2 1 1 3 1\n",
            " 2 1 3 3 3 2 2 2 2 2 1 3 1 1 2 2 2 1 2 2 1 3 3 1 1 3 2 1 3 1 2 2 1 1 1 1 2\n",
            " 3 3 2 2 3 3 3 2 1 2 1 3 2 3 1 1 2 1 3 2 1 1 2 1 3 3 3 3 1 1 3 2 3 2 3 1 1\n",
            " 3 1 1 2 3 2 2 2 2 1 2 3 3 1 2 2 2 1 2 3 2 2 2 3 2 1 1 3 2 3 1 1 2 1 1 1 1\n",
            " 3 2 2 2 1 2 3 2 1 1 1 1 3 2 2 2 2 3 2 2 2 1 1 1 2 3 2 1 1 2 2 1 2 3 1 3 1\n",
            " 1 3 3 1 1 1 1 2 1 3 3 3 2 3 2]\n",
            "service times [1.54373441 1.44259432 1.63398443 1.76321992 1.17777983 0.88614453\n",
            " 1.31140777 0.99096865 0.98802691 1.49804026 1.05491949 1.2972595\n",
            " 1.48595438 0.94104484 1.57856187 1.88741843 0.72332937 1.2258192\n",
            " 1.2499345  1.27676978 0.74468603 1.30328667 1.78046888 1.42650155\n",
            " 1.048322   1.33159192 1.60380784 1.69139475 1.15899519 1.22506002\n",
            " 1.60548655 1.38533905 1.45288203 1.41319106 1.41520156 1.16200597\n",
            " 1.36469702 1.44166906 1.1865546  1.66066631 0.93747422 1.32146403\n",
            " 1.29820615 0.93783852 1.36650528 1.79257002 1.13684267 1.20931505\n",
            " 1.3115617  1.98394599 1.52823879 1.12315665 1.74560869 1.65240641\n",
            " 2.03072701 0.70665534 1.37157322 0.99031529 1.1566811  1.48753927\n",
            " 1.34546678 0.9544285  1.41217641 1.06908199 0.7399898  0.95023753\n",
            " 1.61865485 1.42811492 0.97515187 1.11198057 1.05266178 0.66007158\n",
            " 1.58851777 1.49662534 1.54224995 1.28328991 1.60078947 1.66437191\n",
            " 1.8645632  1.29659681 1.47310059 0.95667622 1.31281501 1.32036629\n",
            " 0.7523019  1.04664899 1.27159874 1.22860617 0.51675384 1.22705768\n",
            " 1.21146937 1.05488138 1.53545303 1.03038809 1.11251734 1.46966903\n",
            " 1.73146812 1.15534974 1.30654026 1.49823492 1.31388624 1.09841941\n",
            " 1.40348708 1.13841862 0.86032811 1.41241382 0.92943456 0.71841547\n",
            " 1.2950515  0.78039624 1.08682348 1.30612401 1.91331867 1.02958371\n",
            " 1.07343183 0.97515432 1.57838088 1.01072313 1.07475669 1.34470406\n",
            " 1.72123238 1.26868881 1.61797129 1.20969367 1.17163015 0.97390065\n",
            " 1.08356909 1.65849217 1.07023769 1.15937382 1.35015669 1.76231316\n",
            " 1.20091356 1.04282043 1.05441957 0.91581242 1.43499619 1.16465539\n",
            " 1.10240198 1.56468911 0.8964722  1.13441603 1.47540336 0.8745201\n",
            " 1.40227085 1.36713924 1.19277012 1.36252899 0.72704774 1.2403472\n",
            " 1.27891401 1.37100703 1.28149824 1.42947182 1.80729138 0.81270264\n",
            " 1.92477303 1.14581411 0.60602727 1.36942021 1.68920524 0.91086173\n",
            " 1.25457256 1.06224251 0.87482218 1.70469567 1.43663644 1.2167637\n",
            " 1.44793787 1.46051473 1.08253903 1.55653363 0.89986128 0.87485625\n",
            " 1.02360805 1.2623753  1.63057413 1.05018641 1.65857138 0.97895625\n",
            " 1.07446464 1.42585834 1.00284078 1.5222687  0.58346202 1.36749059\n",
            " 1.68621404 1.50639648 1.80215927 1.3364327  1.18112127 1.18000923\n",
            " 1.04845099 1.56249277 1.36441785 1.22649259 0.81089866 1.64701311\n",
            " 1.55446601 1.14798592]\n"
          ]
        }
      ]
    },
    {
      "cell_type": "markdown",
      "metadata": {
        "id": "MXz_Rit8rSOJ"
      },
      "source": [
        "## Hypothesis testing: t-test"
      ]
    },
    {
      "cell_type": "markdown",
      "metadata": {
        "id": "S24qtuPYrbjx"
      },
      "source": [
        "# Hypothesis testing\n",
        "\n",
        "Consider a sample of $n=25$ simulations of a DES system in which each simulation provides an estimation of the queue length of a machine. The values are the following: "
      ]
    },
    {
      "cell_type": "code",
      "metadata": {
        "id": "VTtdi5zXoJco"
      },
      "source": [
        "x_DES = [ 1.54805813,  1.00602165,  1.37433824,  1.79220994,  0.93106753,\n",
        "        1.20733477,  0.51645397,  1.81174653,  1.17998772,  1.46656456,\n",
        "        0.6901881 , -0.07863154,  1.73071763,  0.53812963,  1.87345268,\n",
        "        0.45561314,  1.4413871 ,  1.55092039,  0.81818829,  1.28637081,\n",
        "        1.05006276,  1.34923019,  1.16052882,  1.49266933,  2.03781074]"
      ],
      "execution_count": 4,
      "outputs": []
    },
    {
      "cell_type": "markdown",
      "metadata": {
        "id": "Yh28cL3NxFdl"
      },
      "source": [
        "The sample mean is "
      ]
    },
    {
      "cell_type": "code",
      "metadata": {
        "colab": {
          "base_uri": "https://localhost:8080/"
        },
        "id": "64n7hG4ns0kJ",
        "outputId": "2ed8d48f-6eaf-45e0-d6e9-1fdd6e83695f"
      },
      "source": [
        "import numpy as np\n",
        "np.mean(x_DES)"
      ],
      "execution_count": 5,
      "outputs": [
        {
          "output_type": "execute_result",
          "data": {
            "text/plain": [
              "1.2092168444"
            ]
          },
          "metadata": {},
          "execution_count": 5
        }
      ]
    },
    {
      "cell_type": "markdown",
      "metadata": {
        "id": "UZeImAvTsENG"
      },
      "source": [
        "Test the hypothesis that the average queue length of the system is $\\mu_0 = 1.2$"
      ]
    },
    {
      "cell_type": "code",
      "metadata": {
        "colab": {
          "base_uri": "https://localhost:8080/"
        },
        "id": "hx0p-7epqLMq",
        "outputId": "0ac7a188-34ec-4f09-95ea-9cec121bad43"
      },
      "source": [
        "# Standardized Test Statistic\n",
        "NSIMUL = len(x_DES)\n",
        "sample_mean = np.mean(x_DES) # sample mean\n",
        "sample_std = np.std(x_DES,ddof=1) # sample standard deviation\n",
        "sem = sample_std/np.sqrt(NSIMUL) #standard error of the mean\n",
        "\n",
        "print('Sample mean = {}, sample std = {} and s.e.m = {}'.format(sample_mean,sample_std,sem))"
      ],
      "execution_count": 20,
      "outputs": [
        {
          "output_type": "stream",
          "name": "stdout",
          "text": [
            "Sample mean = 1.2092168444, sample std = 0.5129081290654702 and s.e.m = 0.10258162581309405\n"
          ]
        }
      ]
    },
    {
      "cell_type": "markdown",
      "metadata": {
        "id": "2Jb8dolKtq0z"
      },
      "source": [
        "Get the observed and critical t-statistic values at the $95\\%$ significance level ($\\alpha= 0.05$):\n",
        "\n",
        "In order to get the critical t-value \n",
        "\n",
        "$t_{\\alpha/2,\\text{df}}$\n",
        "\n",
        "you need the Percent point function (inverse of cdf — percentiles): https://docs.scipy.org/doc/scipy/reference/generated/scipy.stats.t.html"
      ]
    },
    {
      "cell_type": "code",
      "metadata": {
        "id": "mffBGX3zsCbY"
      },
      "source": [
        "from scipy.stats import t\n",
        "mu_0 = 1.2\n",
        "tstar = np.abs((sample_mean-mu_0)/sem)\n",
        "t = t.ppf(0.975,NSIMUL-1)"
      ],
      "execution_count": 21,
      "outputs": []
    },
    {
      "cell_type": "markdown",
      "metadata": {
        "id": "II1vlnalzh7k"
      },
      "source": [
        "The condifence interval for the sample estimation of the sample mean at the $95\\%$ significance level ($\\alpha= 0.05$) is given by:\n",
        "\n",
        "\n",
        "$[\\mu_{sample} - t_{\\alpha/2,\\text{df}} \\frac{\\sigma_{sample}}{\\sqrt{N}} , \\mu_{sample} + t_{\\alpha/2,\\text{df}} \\frac{\\sigma_{sample}}{\\sqrt{N}} ]$\n"
      ]
    },
    {
      "cell_type": "markdown",
      "metadata": {
        "id": "5Kx1ekxF5Rwv"
      },
      "source": [
        "Three equivalent but different ways to check the hypothesis:\n",
        "\n",
        "1. if $\\mu_0$ is included in the confidence interval the null hypothesis can not be rejected\n"
      ]
    },
    {
      "cell_type": "code",
      "metadata": {
        "colab": {
          "base_uri": "https://localhost:8080/"
        },
        "id": "jurOvoe_5lmk",
        "outputId": "d37e2c3e-61d5-455a-8f3c-25a90ae265fe"
      },
      "source": [
        "print('Conficende Internval = [{},{}]'.format(sample_mean - t*sem,sample_mean + t*sem))\n",
        "(mu_0 > sample_mean - t*sem) & (mu_0 < sample_mean + t*sem)"
      ],
      "execution_count": 22,
      "outputs": [
        {
          "output_type": "stream",
          "name": "stdout",
          "text": [
            "Conficende Internval = [0.9974987744348913,1.4209349143651087]\n"
          ]
        },
        {
          "output_type": "execute_result",
          "data": {
            "text/plain": [
              "True"
            ]
          },
          "metadata": {},
          "execution_count": 22
        }
      ]
    },
    {
      "cell_type": "markdown",
      "metadata": {
        "id": "hbswa0QHx7gL"
      },
      "source": [
        "2. If $|t^*| < t$ there is not enough evidence to reject the null hypothesis that $\\mu_{sample} = \\mu_0$"
      ]
    },
    {
      "cell_type": "code",
      "metadata": {
        "id": "coyQk02CvYfS",
        "outputId": "15516da9-0ac5-437d-e8ef-d493225a50fb",
        "colab": {
          "base_uri": "https://localhost:8080/"
        }
      },
      "source": [
        "print('t star = {}'.format(tstar))\n",
        "print('t = {}'.format(t))"
      ],
      "execution_count": 23,
      "outputs": [
        {
          "output_type": "stream",
          "name": "stdout",
          "text": [
            "t star = 0.08984888206776256\n",
            "t = 2.0638985616280205\n"
          ]
        }
      ]
    },
    {
      "cell_type": "code",
      "metadata": {
        "colab": {
          "base_uri": "https://localhost:8080/"
        },
        "id": "3C9t6DtjuI0l",
        "outputId": "14d6e0b4-97fc-4bb1-c836-e6fb7f5daade"
      },
      "source": [
        "np.abs(tstar) < t"
      ],
      "execution_count": 24,
      "outputs": [
        {
          "output_type": "execute_result",
          "data": {
            "text/plain": [
              "True"
            ]
          },
          "metadata": {},
          "execution_count": 24
        }
      ]
    },
    {
      "cell_type": "markdown",
      "metadata": {
        "id": "XSPHkRxiuX4L"
      },
      "source": [
        "3. Obtain the proabability of a Type I error ($\\alpha$) of erroneosuly rejecting a correct null hypothesis. Null hypothesis can be rejected when the p-value is lower than 0.05:\n",
        "\n",
        "$\\alpha$ = Prob(type I error) "
      ]
    },
    {
      "cell_type": "code",
      "metadata": {
        "colab": {
          "base_uri": "https://localhost:8080/"
        },
        "id": "1sAp5kRtuQMx",
        "outputId": "9f63e199-45ae-4623-c904-58f3e4361581"
      },
      "source": [
        "from scipy.stats import t\n",
        "p = 2*(1-t.cdf(tstar,NSIMUL-1))  \n",
        "\n",
        "print('p-value = {}'.format(p))"
      ],
      "execution_count": 25,
      "outputs": [
        {
          "output_type": "stream",
          "name": "stdout",
          "text": [
            "p-value = 0.9291529339447322\n"
          ]
        }
      ]
    },
    {
      "cell_type": "markdown",
      "metadata": {
        "id": "gzIPr29-u24j"
      },
      "source": [
        "If $p<0.05$, we reject the null hypothesis that the machine has a mean queue length of $\\mu_0$"
      ]
    },
    {
      "cell_type": "markdown",
      "metadata": {
        "id": "Q0n7WD6bu6nG"
      },
      "source": [
        "Now with the scipy libraries"
      ]
    },
    {
      "cell_type": "code",
      "metadata": {
        "id": "Y9ggV_bqu89h",
        "outputId": "6be2d2cf-067a-4628-c491-a2aed7d7084e",
        "colab": {
          "base_uri": "https://localhost:8080/"
        }
      },
      "source": [
        "from scipy import stats\n",
        "stats.ttest_1samp(x_DES, 1.2)"
      ],
      "execution_count": 26,
      "outputs": [
        {
          "output_type": "execute_result",
          "data": {
            "text/plain": [
              "Ttest_1sampResult(statistic=0.08984888206776256, pvalue=0.9291529339447322)"
            ]
          },
          "metadata": {},
          "execution_count": 26
        }
      ]
    },
    {
      "cell_type": "markdown",
      "metadata": {
        "id": "mg5KEEUh6qmx"
      },
      "source": [
        "## Power Analysis:\n",
        "\n",
        "Let's consider that there is no sufficient statistical evidence to reject the null hypothesis. Then we should determine the probability of a type II error, that is when the null hypothesis is not true but we failed to reject it due to limitations in the sample size or to large variability in the sample. \n",
        "\n",
        "Then we define \n",
        "\n",
        "$\\beta$ = Prob(Type II error)\n",
        "\n",
        "We need to specify the standardized effect size that we want to detect, i.e., the normalized deviations from the sample mean:\n",
        "\n",
        "$\\delta = \\frac{\\mu_{sample} - \\mu_1}{\\sigma_{sample}/\\sqrt{n}}$"
      ]
    },
    {
      "cell_type": "markdown",
      "metadata": {
        "id": "atA22cof9-uW"
      },
      "source": [
        "Imageine that we want to detect deviations of 0.1 from the sample mean, then the effect size would be"
      ]
    },
    {
      "cell_type": "code",
      "metadata": {
        "colab": {
          "base_uri": "https://localhost:8080/"
        },
        "id": "LIeIh5em-Fqy",
        "outputId": "f28978f7-710e-4efd-e57a-4652fa75e97e"
      },
      "source": [
        "effect_size = 0.1/sem\n",
        "print('effect size = {}'.format(effect_size))"
      ],
      "execution_count": null,
      "outputs": [
        {
          "output_type": "stream",
          "text": [
            "effect size = 0.9949352216538767\n"
          ],
          "name": "stdout"
        }
      ]
    },
    {
      "cell_type": "code",
      "metadata": {
        "id": "iUaJqkJQuxGd",
        "colab": {
          "base_uri": "https://localhost:8080/"
        },
        "outputId": "7928f5e2-f60c-4a84-8bd5-b565f9bedb55"
      },
      "source": [
        "from statsmodels.stats.power import ttest_power, tt_ind_solve_power\n",
        "\n",
        "n = tt_ind_solve_power(effect_size=0.1,alpha=0.05,power=0.8,ratio=1.0, alternative='two-sided')\n",
        "power = tt_ind_solve_power(effect_size=0.1,nobs1= NSIMUL,alpha=0.05,ratio=1.0, alternative='two-sided')\n",
        "\n",
        "print('Number of simulations needed: {}'.format(n))\n",
        "print('Statistical power achieved with current simulations: {}'.format(power))\n",
        "print('Probability of type II error: {}'.format(1-power))"
      ],
      "execution_count": null,
      "outputs": [
        {
          "output_type": "stream",
          "text": [
            "Number of simulations needed: 1570.7330663315456\n",
            "Statistical power achieved with current simulations: 0.06386694516248347\n",
            "Probability of type II error: 0.9361330548375165\n"
          ],
          "name": "stdout"
        },
        {
          "output_type": "stream",
          "text": [
            "/usr/local/lib/python3.6/dist-packages/statsmodels/tools/_testing.py:19: FutureWarning: pandas.util.testing is deprecated. Use the functions in the public API at pandas.testing instead.\n",
            "  import pandas.util.testing as tm\n"
          ],
          "name": "stderr"
        }
      ]
    },
    {
      "cell_type": "code",
      "metadata": {
        "id": "T_6XqxAvxfLN"
      },
      "source": [
        ""
      ],
      "execution_count": null,
      "outputs": []
    }
  ]
}