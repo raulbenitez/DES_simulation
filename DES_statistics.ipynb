{
  "nbformat": 4,
  "nbformat_minor": 0,
  "metadata": {
    "colab": {
      "name": "DES_statistics.ipynb",
      "provenance": []
    },
    "kernelspec": {
      "name": "python3",
      "display_name": "Python 3"
    }
  },
  "cells": [
    {
      "cell_type": "markdown",
      "metadata": {
        "id": "y9HVx4FvoW3i"
      },
      "source": [
        "# Basic statistics on Discrete Event Simulation (DES) systems:"
      ]
    },
    {
      "cell_type": "markdown",
      "metadata": {
        "id": "RWrw0uEbqOL1"
      },
      "source": [
        "## Random sampling:\n",
        "\n",
        "Let's generate N observations of an univariate variable following a normal distribution with mean $\\mu$ and standard deviation $\\sigma$:"
      ]
    },
    {
      "cell_type": "code",
      "metadata": {
        "id": "Dfya2dm3qdOV"
      },
      "source": [
        "import numpy as np\n",
        "N = 1000\n",
        "mu = 0.6\n",
        "sigma = 0.1\n",
        "x = np.random.normal(mu, sigma, N)"
      ],
      "execution_count": null,
      "outputs": []
    },
    {
      "cell_type": "markdown",
      "metadata": {
        "id": "imJ8474rqh4p"
      },
      "source": [
        "Plot the histogram with nbins bins: "
      ]
    },
    {
      "cell_type": "code",
      "metadata": {
        "colab": {
          "base_uri": "https://localhost:8080/",
          "height": 428
        },
        "id": "kAh2boRNqjOl",
        "outputId": "4cf853b6-ba04-4854-f2c0-9e2536ad93b0"
      },
      "source": [
        "import matplotlib.pyplot as plt\n",
        "\n",
        "nbins = 50\n",
        "fig = plt.figure(figsize=(14,7))\n",
        "plt.hist(x,50)\n",
        "plt.show()"
      ],
      "execution_count": null,
      "outputs": [
        {
          "output_type": "display_data",
          "data": {
            "image/png": "[encoded data removed]",
            "text/plain": [
              "<Figure size 1008x504 with 1 Axes>"
            ]
          },
          "metadata": {
            "tags": [],
            "needs_background": "light"
          }
        }
      ]
    },
    {
      "cell_type": "markdown",
      "metadata": {
        "id": "NexCCul_Gs2T"
      },
      "source": [
        "Random generation of inter-arrival times and service times:\n",
        "\n",
        "Consider a system in which parts arrive to a robotic station with an uniform probability distribution with a range from 1 to 3 minutes $U(1,3)$. The service times of the robotic station follows a gaussian distribution with mean 1.3 minutes and a standard deviation of 0.6 minutes. To generate a random sample of $N=200$ inter-arrival times and service times we proceed as follows: \n"
      ]
    },
    {
      "cell_type": "code",
      "metadata": {
        "colab": {
          "base_uri": "https://localhost:8080/"
        },
        "id": "Tb0X4xpkHGDd",
        "outputId": "33354b02-a8ed-4327-ca9e-64d5bb133458"
      },
      "source": [
        "N = 200\n",
        "inter_arrivals = np.random.randint(low=1,high=4,size=N)\n",
        "print('Inter arrivals {}'.format(inter_arrivals))\n",
        "service_times = x = np.random.normal(1.3, 0.3, N)\n",
        "print('service times {}'.format(service_times))"
      ],
      "execution_count": null,
      "outputs": [
        {
          "output_type": "stream",
          "text": [
            "Inter arrivals [3 3 1 3 1 1 1 1 2 2 3 1 3 2 2 3 2 2 1 2 3 3 2 1 3 2 3 3 2 2 2 1 1 2 1 1 2\n",
            " 3 2 1 2 3 1 3 3 3 2 1 3 3 1 1 1 2 3 1 3 2 1 3 1 3 2 3 1 1 2 1 1 1 1 3 2 3\n",
            " 2 3 1 2 1 2 3 3 3 3 2 1 3 2 1 3 3 1 3 2 3 3 1 1 2 2 3 2 3 3 2 1 2 1 2 1 1\n",
            " 1 3 3 3 2 2 1 1 3 1 2 1 3 3 3 3 1 1 1 3 3 1 3 3 2 1 1 3 3 3 2 3 3 2 1 2 2\n",
            " 2 1 1 2 3 3 2 3 1 1 3 3 2 2 2 2 1 1 2 1 3 3 1 3 2 2 2 1 3 1 1 2 1 1 3 2 3\n",
            " 1 3 1 1 1 1 2 2 1 2 1 2 1 3 2]\n",
            "service times [1.31629192 1.22436702 0.97919553 1.45909085 1.10344778 1.26695644\n",
            " 1.50230313 0.82845339 1.62222272 1.30342282 1.1158465  1.58382918\n",
            " 1.33579608 0.98177125 1.81255393 0.78522132 1.50832307 1.61573095\n",
            " 1.59429097 1.5440704  1.77142912 1.62419426 1.5760599  1.2295117\n",
            " 1.30607933 1.44131239 1.46065129 1.14518629 2.22647917 1.15658718\n",
            " 1.38361869 0.97214379 1.33172361 1.30081328 1.55289991 1.02015942\n",
            " 1.19141298 1.11332088 1.34826794 0.96859163 1.3850013  0.97394229\n",
            " 1.16276086 0.57051454 1.26818234 1.59249473 1.63619766 0.97512263\n",
            " 1.09780621 1.18336061 1.17371826 1.23877579 1.21920109 1.17766124\n",
            " 1.31152607 0.7531306  1.68812707 1.51918537 1.3547501  0.89837698\n",
            " 0.80853258 0.84465121 1.20320136 1.61012668 1.55445775 1.39688851\n",
            " 1.4348921  0.81821892 1.26000159 1.883082   0.65462083 2.21524552\n",
            " 1.18017386 1.75297903 0.84958767 1.51855541 1.4554815  0.77542426\n",
            " 1.34564808 1.45910215 1.43665599 1.52070219 1.24311939 1.9534976\n",
            " 0.99262389 0.96035469 1.26746238 1.70440765 1.68240891 1.4450598\n",
            " 1.33612608 1.35676732 1.31430601 1.54889165 1.72886032 1.34546319\n",
            " 1.2715566  0.87313476 1.41441272 1.24310391 0.99865718 0.74627123\n",
            " 1.62471537 1.6633503  1.59848432 1.56828995 1.32336908 1.88361391\n",
            " 1.2511833  1.17555681 0.64316184 1.11108271 1.03885016 1.35266918\n",
            " 1.36688932 1.23883452 1.20914817 1.30264522 1.10446248 1.06010384\n",
            " 1.65866266 1.25689255 1.29778259 1.2498174  1.50626668 1.02426318\n",
            " 1.57726765 1.3137732  1.3951501  1.04875995 1.08140876 1.56033901\n",
            " 1.29825273 1.17413048 1.0948203  1.38115435 1.32851168 1.83740828\n",
            " 1.17059834 1.3293316  1.96108395 1.46060523 1.36044225 1.43744547\n",
            " 1.39132688 1.50544752 1.06681964 1.28634106 1.4762382  1.07697803\n",
            " 1.5023125  1.56961179 1.57433145 1.12835318 1.71681359 0.97251293\n",
            " 1.42683752 1.63198306 1.36786808 1.59322584 1.50615574 1.6054616\n",
            " 1.74640896 1.36282615 1.57007783 1.25478574 0.97904657 1.22495447\n",
            " 1.3603242  1.65988566 1.10230454 1.26259434 0.93086314 0.82489032\n",
            " 1.88614255 1.17987447 1.4756616  1.12634553 1.56942608 1.23159725\n",
            " 1.37602499 1.48983063 1.59734112 1.10857597 0.81539984 1.31562969\n",
            " 0.7855533  1.38481258 1.62102781 2.16758678 1.40953163 1.13491069\n",
            " 1.48979555 1.600055   1.27952397 1.62319581 1.83984435 1.97631454\n",
            " 1.05769702 1.3245102 ]\n"
          ],
          "name": "stdout"
        }
      ]
    },
    {
      "cell_type": "markdown",
      "metadata": {
        "id": "MXz_Rit8rSOJ"
      },
      "source": [
        "## Hypothesis testing: t-test"
      ]
    },
    {
      "cell_type": "markdown",
      "metadata": {
        "id": "S24qtuPYrbjx"
      },
      "source": [
        "# Hypothesis testing\n",
        "\n",
        "Consider a sample of $n=25$ simulations of a DES system in which each simulation provides an estimation of the queue length of a machine. The values are the following: "
      ]
    },
    {
      "cell_type": "code",
      "metadata": {
        "id": "VTtdi5zXoJco"
      },
      "source": [
        "x_DES = [ 1.54805813,  1.00602165,  1.37433824,  1.79220994,  0.93106753,\n",
        "        1.20733477,  0.51645397,  1.81174653,  1.17998772,  1.46656456,\n",
        "        0.6901881 , -0.07863154,  1.73071763,  0.53812963,  1.87345268,\n",
        "        0.45561314,  1.4413871 ,  1.55092039,  0.81818829,  1.28637081,\n",
        "        1.05006276,  1.34923019,  1.16052882,  1.49266933,  2.03781074]"
      ],
      "execution_count": null,
      "outputs": []
    },
    {
      "cell_type": "markdown",
      "metadata": {
        "id": "Yh28cL3NxFdl"
      },
      "source": [
        "The sample mean is "
      ]
    },
    {
      "cell_type": "code",
      "metadata": {
        "colab": {
          "base_uri": "https://localhost:8080/"
        },
        "id": "64n7hG4ns0kJ",
        "outputId": "9b5c1973-02f0-486e-fc9d-d7545b45e6eb"
      },
      "source": [
        "np.mean(x_DES)"
      ],
      "execution_count": null,
      "outputs": [
        {
          "output_type": "execute_result",
          "data": {
            "text/plain": [
              "1.2092168444"
            ]
          },
          "metadata": {
            "tags": []
          },
          "execution_count": 5
        }
      ]
    },
    {
      "cell_type": "markdown",
      "metadata": {
        "id": "UZeImAvTsENG"
      },
      "source": [
        "Test the hypothesis that the average queue length of the system is $\\mu_0 = 1.2$"
      ]
    },
    {
      "cell_type": "code",
      "metadata": {
        "colab": {
          "base_uri": "https://localhost:8080/"
        },
        "id": "hx0p-7epqLMq",
        "outputId": "6d4aea6e-eab1-47e1-9147-4b171b9d5283"
      },
      "source": [
        "# Standardized Test Statistic\n",
        "NSIMUL = len(x_DES)\n",
        "sample_mean = np.mean(x_DES) # sample mean\n",
        "sample_std = np.std(x_DES) # sample standard deviation\n",
        "sem = sample_std/np.sqrt(NSIMUL) #standard error of the mean\n",
        "\n",
        "print('Sample mean = {}, sample std = {} and s.e.m = {}'.format(sample_mean,sample_std,sem))"
      ],
      "execution_count": null,
      "outputs": [
        {
          "output_type": "stream",
          "text": [
            "Sample mean = 1.2092168444, sample std = 0.5025452804543918 and s.e.m = 0.10050905609087837\n"
          ],
          "name": "stdout"
        }
      ]
    },
    {
      "cell_type": "markdown",
      "metadata": {
        "id": "2Jb8dolKtq0z"
      },
      "source": [
        "Get the observed and critical t-statistic values at the $95\\%$ significance level ($\\alpha= 0.05$):\n",
        "\n",
        "In order to get the critical t-value \n",
        "\n",
        "$t_{\\alpha/2,\\text{df}}$\n",
        "\n",
        "you need the Percent point function (inverse of cdf — percentiles): https://docs.scipy.org/doc/scipy/reference/generated/scipy.stats.t.html"
      ]
    },
    {
      "cell_type": "code",
      "metadata": {
        "id": "mffBGX3zsCbY"
      },
      "source": [
        "from scipy.stats import t\n",
        "mu_0 = 1.25\n",
        "tstar = np.abs((sample_mean-mu)/sem)\n",
        "t = t.ppf(0.975,NSIMUL-1)"
      ],
      "execution_count": null,
      "outputs": []
    },
    {
      "cell_type": "markdown",
      "metadata": {
        "id": "II1vlnalzh7k"
      },
      "source": [
        "The condifence interval for the sample estimation of the sample mean at the $95\\%$ significance level ($\\alpha= 0.05$) is given by:\n",
        "\n",
        "\n",
        "$[\\mu_{sample} - t_{\\alpha/2,\\text{df}} \\frac{\\sigma_{sample}}{\\sqrt{N}} , \\mu_{sample} + t_{\\alpha/2,\\text{df}} \\frac{\\sigma_{sample}}{\\sqrt{N}} ]$\n"
      ]
    },
    {
      "cell_type": "markdown",
      "metadata": {
        "id": "5Kx1ekxF5Rwv"
      },
      "source": [
        "Three equivalent but different ways to check the hypothesis:\n",
        "\n",
        "1. if $\\mu_0$ is included in the confidence interval the null hypothesis can not be rejected\n"
      ]
    },
    {
      "cell_type": "code",
      "metadata": {
        "colab": {
          "base_uri": "https://localhost:8080/"
        },
        "id": "jurOvoe_5lmk",
        "outputId": "cda339af-2c6e-4e4d-a839-9dd817ecaa71"
      },
      "source": [
        "print('Conficende Internval = [{},{}]'.format(sample_mean - t*sem,sample_mean + t*sem))\n",
        "(mu_0 > sample_mean - t*sem) & (mu_0 < sample_mean + t*sem)"
      ],
      "execution_count": null,
      "outputs": [
        {
          "output_type": "stream",
          "text": [
            "Conficende Internval = [1.001776348103446,1.416657340696554]\n"
          ],
          "name": "stdout"
        },
        {
          "output_type": "execute_result",
          "data": {
            "text/plain": [
              "True"
            ]
          },
          "metadata": {
            "tags": []
          },
          "execution_count": 38
        }
      ]
    },
    {
      "cell_type": "markdown",
      "metadata": {
        "id": "hbswa0QHx7gL"
      },
      "source": [
        "2. If $|t^*| < t$ there is not enough evidence to reject the null hypothesis that $\\mu_{sample} = \\mu_0$"
      ]
    },
    {
      "cell_type": "code",
      "metadata": {
        "colab": {
          "base_uri": "https://localhost:8080/"
        },
        "id": "3C9t6DtjuI0l",
        "outputId": "801ff555-b8c9-4590-c5c7-2a07056603a3"
      },
      "source": [
        "np.abs(tstar) < t"
      ],
      "execution_count": null,
      "outputs": [
        {
          "output_type": "execute_result",
          "data": {
            "text/plain": [
              "True"
            ]
          },
          "metadata": {
            "tags": []
          },
          "execution_count": 39
        }
      ]
    },
    {
      "cell_type": "markdown",
      "metadata": {
        "id": "XSPHkRxiuX4L"
      },
      "source": [
        "3. Obtain the proabability of a Type I error ($\\alpha$) of erroneosuly rejecting a correct null hypothesis. Null hypothesis can be rejected when the p-value is lower than 0.05:\n",
        "\n",
        "$\\alpha$ = Prob(type I error) "
      ]
    },
    {
      "cell_type": "code",
      "metadata": {
        "colab": {
          "base_uri": "https://localhost:8080/"
        },
        "id": "1sAp5kRtuQMx",
        "outputId": "69012ee2-d504-4b24-c52c-721fc6c853a9"
      },
      "source": [
        "from scipy.stats import t\n",
        "p = 2*(1-t.cdf(tstar,NSIMUL-1))  \n",
        "\n",
        "print('p-value = {}'.format(p))"
      ],
      "execution_count": null,
      "outputs": [
        {
          "output_type": "stream",
          "text": [
            "p-value = 0.06976437738979846\n"
          ],
          "name": "stdout"
        }
      ]
    },
    {
      "cell_type": "markdown",
      "metadata": {
        "id": "gzIPr29-u24j"
      },
      "source": [
        "If $p<0.05$, we reject the null hypothesis that the machine has a mean queu length of $\\mu =1.4$"
      ]
    },
    {
      "cell_type": "markdown",
      "metadata": {
        "id": "mg5KEEUh6qmx"
      },
      "source": [
        "## Power Analysis:\n",
        "\n",
        "Let's consider that there is no sufficient statistical evidence to reject the null hypothesis. Then we should determine the probability of a type II error, that is when the null hypothesis is not true but we failed to reject it due to limitations in the sample size or to large variability in the sample. \n",
        "\n",
        "Then we define \n",
        "\n",
        "$\\beta$ = Prob(Type II error)\n",
        "\n",
        "We need to specify the standardized effect size that we want to detect, i.e., the normalized deviations from the sample mean:\n",
        "\n",
        "$\\delta = \\frac{\\mu_{sample} - \\mu_1}{\\sigma_{sample}/\\sqrt{n}}$"
      ]
    },
    {
      "cell_type": "markdown",
      "metadata": {
        "id": "atA22cof9-uW"
      },
      "source": [
        "Imageine that we want to detect deviations of 0.1 from the sample mean, then the effect size would be"
      ]
    },
    {
      "cell_type": "code",
      "metadata": {
        "colab": {
          "base_uri": "https://localhost:8080/"
        },
        "id": "LIeIh5em-Fqy",
        "outputId": "29339869-1bad-43dd-87d0-42048e3c14ad"
      },
      "source": [
        "effect_size = 0.1/sem\n",
        "print('effect size = {}'.format(effect_size))"
      ],
      "execution_count": null,
      "outputs": [
        {
          "output_type": "stream",
          "text": [
            "effect size = 0.9949352216538767\n"
          ],
          "name": "stdout"
        }
      ]
    },
    {
      "cell_type": "code",
      "metadata": {
        "id": "iUaJqkJQuxGd",
        "colab": {
          "base_uri": "https://localhost:8080/"
        },
        "outputId": "bdc67b23-3833-483e-ad3c-43796cf8726f"
      },
      "source": [
        "from statsmodels.stats.power import ttest_power, tt_ind_solve_power\n",
        "\n",
        "n = tt_ind_solve_power(effect_size=0.1,alpha=0.05,power=0.8,ratio=1.0, alternative='two-sided')\n",
        "power = tt_ind_solve_power(effect_size=0.1,nobs1= NSIMUL,alpha=0.05,ratio=1.0, alternative='two-sided')\n",
        "\n",
        "print('Number of simulations needed: {}'.format(n))\n",
        "print('Statistical power achieved with current simulations: {}'.format(power))\n",
        "print('Probability of type II error: {}'.format(1-power))"
      ],
      "execution_count": null,
      "outputs": [
        {
          "output_type": "stream",
          "text": [
            "Number of simulations needed: 1570.7330663315456\n",
            "Statistical power achieved with current simulations: 0.06386694516248347\n",
            "Probability of type II error: 0.9361330548375165\n"
          ],
          "name": "stdout"
        }
      ]
    }
  ]
}