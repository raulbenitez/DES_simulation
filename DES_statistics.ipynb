{
  "nbformat": 4,
  "nbformat_minor": 0,
  "metadata": {
    "colab": {
      "name": "DES_statistics.ipynb",
      "provenance": []
    },
    "kernelspec": {
      "name": "python3",
      "display_name": "Python 3"
    }
  },
  "cells": [
    {
      "cell_type": "markdown",
      "metadata": {
        "id": "y9HVx4FvoW3i"
      },
      "source": [
        "# Basic statistics on Discrete Event Simulation (DES) systems:"
      ]
    },
    {
      "cell_type": "markdown",
      "metadata": {
        "id": "RWrw0uEbqOL1"
      },
      "source": [
        "## Random sampling:\n",
        "\n",
        "Let's generate N observations of an univariate variable following a normal distribution with mean $\\mu$ and standard deviation $\\sigma$:"
      ]
    },
    {
      "cell_type": "code",
      "metadata": {
        "id": "Dfya2dm3qdOV"
      },
      "source": [
        "import numpy as np\n",
        "N = 1000\n",
        "mu = 0.6\n",
        "sigma = 0.1\n",
        "x = np.random.normal(mu, sigma, N)"
      ],
      "execution_count": 3,
      "outputs": []
    },
    {
      "cell_type": "markdown",
      "metadata": {
        "id": "imJ8474rqh4p"
      },
      "source": [
        "Plot the histogram with nbins bins: "
      ]
    },
    {
      "cell_type": "code",
      "metadata": {
        "colab": {
          "base_uri": "https://localhost:8080/",
          "height": 428
        },
        "id": "kAh2boRNqjOl",
        "outputId": "9ef1be17-1f1e-4c65-b47f-2add7dd73004"
      },
      "source": [
        "import matplotlib.pyplot as plt\n",
        "\n",
        "nbins = 50\n",
        "fig = plt.figure(figsize=(14,7))\n",
        "plt.hist(x,50)\n",
        "plt.show()"
      ],
      "execution_count": 4,
      "outputs": [
        {
          "output_type": "display_data",
          "data": {
            "image/png": "[encoded data removed]",
            "text/plain": [
              "<Figure size 1008x504 with 1 Axes>"
            ]
          },
          "metadata": {
            "tags": [],
            "needs_background": "light"
          }
        }
      ]
    },
    {
      "cell_type": "markdown",
      "metadata": {
        "id": "NexCCul_Gs2T"
      },
      "source": [
        "Random generation of inter-arrival times and service times:\n",
        "\n",
        "Consider a system in which parts arrive to a robotic station with an uniform probability distribution with a range from 1 to 3 minutes $U(1,3)$. The service times of the robotic station follows a gaussian distribution with mean 1.3 minutes and a standard deviation of 0.6 minutes. To generate a random sample of $N=200$ inter-arrival times and service times we proceed as follows: \n"
      ]
    },
    {
      "cell_type": "code",
      "metadata": {
        "colab": {
          "base_uri": "https://localhost:8080/"
        },
        "id": "Tb0X4xpkHGDd",
        "outputId": "31d37de9-d68e-4038-e862-214dc69eb40d"
      },
      "source": [
        "N = 200\n",
        "inter_arrivals = np.random.randint(low=1,high=4,size=N)\n",
        "print('Inter arrivals {}'.format(inter_arrivals))\n",
        "service_times = x = np.random.normal(1.3, 0.3, N)\n",
        "print('service times {}'.format(service_times))"
      ],
      "execution_count": 5,
      "outputs": [
        {
          "output_type": "stream",
          "text": [
            "Inter arrivals [3 1 2 3 1 2 1 1 1 2 2 3 2 1 1 1 3 2 1 3 1 1 2 3 3 1 1 2 3 2 3 3 3 3 2 2 3\n",
            " 1 3 2 2 2 2 3 1 3 2 2 2 3 2 2 3 1 3 3 2 2 1 3 2 3 3 1 2 1 2 1 2 2 3 1 1 3\n",
            " 2 1 3 2 2 1 3 3 1 2 3 1 1 1 1 1 1 2 3 1 3 3 2 2 1 2 2 3 2 1 2 2 1 2 2 3 1\n",
            " 3 1 2 2 3 2 1 1 3 1 3 3 1 1 1 2 3 1 1 3 3 3 3 2 2 1 2 3 3 2 1 3 1 3 1 2 3\n",
            " 1 2 3 2 2 1 2 1 2 2 1 3 1 3 2 3 1 3 1 1 1 3 2 3 3 1 1 1 1 1 2 2 1 3 1 1 3\n",
            " 2 3 3 2 3 2 2 3 2 2 3 2 2 3 3]\n",
            "service times [1.97252912 1.29067656 1.0481423  1.50155936 1.82638752 1.294295\n",
            " 1.16261534 1.36393044 1.16389882 0.9796369  1.48786783 1.30923671\n",
            " 1.32290929 1.3117716  1.47247992 1.17775891 1.28586068 1.24830779\n",
            " 1.38772678 1.59961947 1.57261067 1.67753179 0.70891625 1.16573488\n",
            " 1.62248777 0.88337011 0.91985541 1.72050092 1.38263357 1.01527459\n",
            " 1.11566938 1.17856877 1.2548444  1.76230152 1.66528835 1.62191075\n",
            " 1.37890743 1.5499767  1.70606006 1.13018239 1.31518917 1.05145312\n",
            " 1.4279743  1.25559854 1.39781917 1.19865527 0.65635458 1.47970145\n",
            " 1.27122064 0.94294446 1.06723027 0.82065095 1.33182427 1.03300384\n",
            " 1.48824255 1.34212422 1.24940788 1.48639017 1.26262073 0.83595168\n",
            " 1.40956282 1.69684094 0.96079263 1.23002496 1.07141488 1.35496261\n",
            " 1.09587337 1.18271567 1.1012249  1.89153133 1.08282731 1.15333857\n",
            " 1.34992316 1.34064852 1.54188749 0.87974623 1.43195147 1.29330042\n",
            " 1.7414499  1.28483333 1.65732671 1.44392718 0.89843502 1.13110684\n",
            " 1.82246301 1.79287376 1.07299811 1.22613177 1.38704557 1.71518146\n",
            " 1.42394493 0.99292968 1.41798788 1.29024697 1.64102868 1.39992371\n",
            " 1.33720655 1.16132551 1.25717845 1.05342286 0.91774305 1.17101249\n",
            " 1.45501035 1.30730404 1.12242587 1.48457391 0.94057181 1.31318101\n",
            " 1.7370952  1.60425561 1.41154572 1.64101021 0.9448231  1.1929025\n",
            " 1.3044169  1.32079389 1.41632674 0.56486141 0.99827863 1.3806826\n",
            " 1.23374053 1.24800548 1.06041524 1.56728063 2.1111631  1.1080411\n",
            " 1.49463323 1.67961512 0.80151382 1.0081307  0.80033019 1.47971678\n",
            " 1.51996027 1.87530071 1.43552375 1.81808891 1.41562288 0.9262656\n",
            " 1.84986972 1.46808805 1.40926579 1.81956034 1.32167583 1.15971089\n",
            " 1.50012784 1.03445577 1.26397136 1.46061726 1.49721653 1.62781298\n",
            " 1.15401695 0.96786361 1.43385521 1.27119836 0.99758048 0.90183138\n",
            " 1.35468779 1.15598227 0.93091278 1.29573726 1.61082877 1.5305296\n",
            " 0.56235758 1.22737708 1.27732861 1.36241408 1.40752788 0.6156021\n",
            " 1.42983855 1.41616793 1.05179373 1.41127575 0.98032428 1.09117876\n",
            " 1.3900614  1.10684915 1.13573925 1.64883489 1.30125319 1.44174129\n",
            " 1.48039125 1.09860723 1.19017076 1.69792788 1.80956533 0.90104689\n",
            " 1.26549053 1.48564181 1.14009592 1.26950293 1.04170796 1.23440544\n",
            " 0.83919037 1.05741863 1.35741076 1.2248212  1.29511675 1.24598925\n",
            " 0.87957899 1.499891  ]\n"
          ],
          "name": "stdout"
        }
      ]
    },
    {
      "cell_type": "markdown",
      "metadata": {
        "id": "MXz_Rit8rSOJ"
      },
      "source": [
        "## Hypothesis testing: t-test"
      ]
    },
    {
      "cell_type": "markdown",
      "metadata": {
        "id": "S24qtuPYrbjx"
      },
      "source": [
        "# Hypothesis testing\n",
        "\n",
        "Consider a sample of $n=25$ simulations of a DES system in which each simulation provides an estimation of the queue length of a machine. The values are the following: "
      ]
    },
    {
      "cell_type": "code",
      "metadata": {
        "id": "VTtdi5zXoJco"
      },
      "source": [
        "x_DES = [ 1.54805813,  1.00602165,  1.37433824,  1.79220994,  0.93106753,\n",
        "        1.20733477,  0.51645397,  1.81174653,  1.17998772,  1.46656456,\n",
        "        0.6901881 , -0.07863154,  1.73071763,  0.53812963,  1.87345268,\n",
        "        0.45561314,  1.4413871 ,  1.55092039,  0.81818829,  1.28637081,\n",
        "        1.05006276,  1.34923019,  1.16052882,  1.49266933,  2.03781074]"
      ],
      "execution_count": 6,
      "outputs": []
    },
    {
      "cell_type": "markdown",
      "metadata": {
        "id": "Yh28cL3NxFdl"
      },
      "source": [
        "The sample mean is "
      ]
    },
    {
      "cell_type": "code",
      "metadata": {
        "colab": {
          "base_uri": "https://localhost:8080/"
        },
        "id": "64n7hG4ns0kJ",
        "outputId": "fa6132e6-44a9-4afc-a734-52354609483c"
      },
      "source": [
        "import numpy as np\n",
        "np.mean(x_DES)"
      ],
      "execution_count": 7,
      "outputs": [
        {
          "output_type": "execute_result",
          "data": {
            "text/plain": [
              "1.2092168444"
            ]
          },
          "metadata": {
            "tags": []
          },
          "execution_count": 7
        }
      ]
    },
    {
      "cell_type": "markdown",
      "metadata": {
        "id": "UZeImAvTsENG"
      },
      "source": [
        "Test the hypothesis that the average queue length of the system is $\\mu_0 = 1.2$"
      ]
    },
    {
      "cell_type": "code",
      "metadata": {
        "colab": {
          "base_uri": "https://localhost:8080/"
        },
        "id": "hx0p-7epqLMq",
        "outputId": "3b8d6370-1a8b-4a8d-928b-1856ee9d654f"
      },
      "source": [
        "# Standardized Test Statistic\n",
        "NSIMUL = len(x_DES)\n",
        "sample_mean = np.mean(x_DES) # sample mean\n",
        "sample_std = np.std(x_DES) # sample standard deviation\n",
        "sem = sample_std/np.sqrt(NSIMUL) #standard error of the mean\n",
        "\n",
        "print('Sample mean = {}, sample std = {} and s.e.m = {}'.format(sample_mean,sample_std,sem))"
      ],
      "execution_count": 8,
      "outputs": [
        {
          "output_type": "stream",
          "text": [
            "Sample mean = 1.2092168444, sample std = 0.5025452804543918 and s.e.m = 0.10050905609087837\n"
          ],
          "name": "stdout"
        }
      ]
    },
    {
      "cell_type": "markdown",
      "metadata": {
        "id": "2Jb8dolKtq0z"
      },
      "source": [
        "Get the observed and critical t-statistic values at the $95\\%$ significance level ($\\alpha= 0.05$):\n",
        "\n",
        "In order to get the critical t-value \n",
        "\n",
        "$t_{\\alpha/2,\\text{df}}$\n",
        "\n",
        "you need the Percent point function (inverse of cdf — percentiles): https://docs.scipy.org/doc/scipy/reference/generated/scipy.stats.t.html"
      ]
    },
    {
      "cell_type": "code",
      "metadata": {
        "id": "mffBGX3zsCbY"
      },
      "source": [
        "from scipy.stats import t\n",
        "mu_0 = 1.2\n",
        "tstar = np.abs((sample_mean-mu_0)/sem)\n",
        "t = t.ppf(0.975,NSIMUL-1)"
      ],
      "execution_count": 31,
      "outputs": []
    },
    {
      "cell_type": "markdown",
      "metadata": {
        "id": "II1vlnalzh7k"
      },
      "source": [
        "The condifence interval for the sample estimation of the sample mean at the $95\\%$ significance level ($\\alpha= 0.05$) is given by:\n",
        "\n",
        "\n",
        "$[\\mu_{sample} - t_{\\alpha/2,\\text{df}} \\frac{\\sigma_{sample}}{\\sqrt{N}} , \\mu_{sample} + t_{\\alpha/2,\\text{df}} \\frac{\\sigma_{sample}}{\\sqrt{N}} ]$\n"
      ]
    },
    {
      "cell_type": "markdown",
      "metadata": {
        "id": "5Kx1ekxF5Rwv"
      },
      "source": [
        "Three equivalent but different ways to check the hypothesis:\n",
        "\n",
        "1. if $\\mu_0$ is included in the confidence interval the null hypothesis can not be rejected\n"
      ]
    },
    {
      "cell_type": "code",
      "metadata": {
        "colab": {
          "base_uri": "https://localhost:8080/"
        },
        "id": "jurOvoe_5lmk",
        "outputId": "322aedc1-172e-4c3c-da53-addd3731c98e"
      },
      "source": [
        "print('Conficende Internval = [{},{}]'.format(sample_mean - t*sem,sample_mean + t*sem))\n",
        "(mu_0 > sample_mean - t*sem) & (mu_0 < sample_mean + t*sem)"
      ],
      "execution_count": 32,
      "outputs": [
        {
          "output_type": "stream",
          "text": [
            "Conficende Internval = [1.001776348103446,1.416657340696554]\n"
          ],
          "name": "stdout"
        },
        {
          "output_type": "execute_result",
          "data": {
            "text/plain": [
              "True"
            ]
          },
          "metadata": {
            "tags": []
          },
          "execution_count": 32
        }
      ]
    },
    {
      "cell_type": "markdown",
      "metadata": {
        "id": "hbswa0QHx7gL"
      },
      "source": [
        "2. If $|t^*| < t$ there is not enough evidence to reject the null hypothesis that $\\mu_{sample} = \\mu_0$"
      ]
    },
    {
      "cell_type": "code",
      "metadata": {
        "colab": {
          "base_uri": "https://localhost:8080/"
        },
        "id": "3C9t6DtjuI0l",
        "outputId": "a331aa0d-7fc1-4919-c672-3f115151707a"
      },
      "source": [
        "np.abs(tstar) < t"
      ],
      "execution_count": 33,
      "outputs": [
        {
          "output_type": "execute_result",
          "data": {
            "text/plain": [
              "True"
            ]
          },
          "metadata": {
            "tags": []
          },
          "execution_count": 33
        }
      ]
    },
    {
      "cell_type": "markdown",
      "metadata": {
        "id": "XSPHkRxiuX4L"
      },
      "source": [
        "3. Obtain the proabability of a Type I error ($\\alpha$) of erroneosuly rejecting a correct null hypothesis. Null hypothesis can be rejected when the p-value is lower than 0.05:\n",
        "\n",
        "$\\alpha$ = Prob(type I error) "
      ]
    },
    {
      "cell_type": "code",
      "metadata": {
        "colab": {
          "base_uri": "https://localhost:8080/"
        },
        "id": "1sAp5kRtuQMx",
        "outputId": "b671c95d-bc5f-4bc0-a781-73d45f700317"
      },
      "source": [
        "from scipy.stats import t\n",
        "p = 2*(1-t.cdf(tstar,NSIMUL-1))  \n",
        "\n",
        "print('p-value = {}'.format(p))"
      ],
      "execution_count": 34,
      "outputs": [
        {
          "output_type": "stream",
          "text": [
            "p-value = 0.9276962327546747\n"
          ],
          "name": "stdout"
        }
      ]
    },
    {
      "cell_type": "markdown",
      "metadata": {
        "id": "gzIPr29-u24j"
      },
      "source": [
        "If $p<0.05$, we reject the null hypothesis that the machine has a mean queue length of $\\mu_0$"
      ]
    },
    {
      "cell_type": "markdown",
      "metadata": {
        "id": "mg5KEEUh6qmx"
      },
      "source": [
        "## Power Analysis:\n",
        "\n",
        "Let's consider that there is no sufficient statistical evidence to reject the null hypothesis. Then we should determine the probability of a type II error, that is when the null hypothesis is not true but we failed to reject it due to limitations in the sample size or to large variability in the sample. \n",
        "\n",
        "Then we define \n",
        "\n",
        "$\\beta$ = Prob(Type II error)\n",
        "\n",
        "We need to specify the standardized effect size that we want to detect, i.e., the normalized deviations from the sample mean:\n",
        "\n",
        "$\\delta = \\frac{\\mu_{sample} - \\mu_1}{\\sigma_{sample}/\\sqrt{n}}$"
      ]
    },
    {
      "cell_type": "markdown",
      "metadata": {
        "id": "atA22cof9-uW"
      },
      "source": [
        "Imageine that we want to detect deviations of 0.1 from the sample mean, then the effect size would be"
      ]
    },
    {
      "cell_type": "code",
      "metadata": {
        "colab": {
          "base_uri": "https://localhost:8080/"
        },
        "id": "LIeIh5em-Fqy",
        "outputId": "f28978f7-710e-4efd-e57a-4652fa75e97e"
      },
      "source": [
        "effect_size = 0.1/sem\n",
        "print('effect size = {}'.format(effect_size))"
      ],
      "execution_count": 18,
      "outputs": [
        {
          "output_type": "stream",
          "text": [
            "effect size = 0.9949352216538767\n"
          ],
          "name": "stdout"
        }
      ]
    },
    {
      "cell_type": "code",
      "metadata": {
        "id": "iUaJqkJQuxGd",
        "colab": {
          "base_uri": "https://localhost:8080/"
        },
        "outputId": "7928f5e2-f60c-4a84-8bd5-b565f9bedb55"
      },
      "source": [
        "from statsmodels.stats.power import ttest_power, tt_ind_solve_power\n",
        "\n",
        "n = tt_ind_solve_power(effect_size=0.1,alpha=0.05,power=0.8,ratio=1.0, alternative='two-sided')\n",
        "power = tt_ind_solve_power(effect_size=0.1,nobs1= NSIMUL,alpha=0.05,ratio=1.0, alternative='two-sided')\n",
        "\n",
        "print('Number of simulations needed: {}'.format(n))\n",
        "print('Statistical power achieved with current simulations: {}'.format(power))\n",
        "print('Probability of type II error: {}'.format(1-power))"
      ],
      "execution_count": 19,
      "outputs": [
        {
          "output_type": "stream",
          "text": [
            "Number of simulations needed: 1570.7330663315456\n",
            "Statistical power achieved with current simulations: 0.06386694516248347\n",
            "Probability of type II error: 0.9361330548375165\n"
          ],
          "name": "stdout"
        },
        {
          "output_type": "stream",
          "text": [
            "/usr/local/lib/python3.6/dist-packages/statsmodels/tools/_testing.py:19: FutureWarning: pandas.util.testing is deprecated. Use the functions in the public API at pandas.testing instead.\n",
            "  import pandas.util.testing as tm\n"
          ],
          "name": "stderr"
        }
      ]
    },
    {
      "cell_type": "code",
      "metadata": {
        "id": "T_6XqxAvxfLN"
      },
      "source": [
        ""
      ],
      "execution_count": null,
      "outputs": []
    }
  ]
}