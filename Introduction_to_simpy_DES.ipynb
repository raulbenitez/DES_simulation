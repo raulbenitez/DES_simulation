{
  "nbformat": 4,
  "nbformat_minor": 0,
  "metadata": {
    "colab": {
      "name": "Introduction_to_simpy_DES.ipynb",
      "provenance": []
    },
    "kernelspec": {
      "name": "python3",
      "display_name": "Python 3"
    }
  },
  "cells": [
    {
      "cell_type": "markdown",
      "metadata": {
        "id": "0CFgLA7N-bt1"
      },
      "source": [
        "# INTRODUCTION TO DES simulation with simpy\n",
        "\n",
        "Simpy is a Python library to design process-based discrete-event simulation systems. Detailed documentation can be found here:\n",
        "\n",
        "https://pypi.org/project/simpy/\n",
        "\n",
        "\n"
      ]
    },
    {
      "cell_type": "markdown",
      "metadata": {
        "id": "rOoiF9qVvQ53"
      },
      "source": [
        "## Triggering events with Yield\n",
        "\n",
        "When a process yields an event, the process gets suspended. \n",
        "SimPy resumes the process, when the event occurs (the event is triggered).\n",
        "Multiple processes can wait for the same event. SimPy resumes them in the same order in which they yielded that event.\n",
        "\n"
      ]
    },
    {
      "cell_type": "code",
      "metadata": {
        "colab": {
          "base_uri": "https://localhost:8080/"
        },
        "id": "YJdGCadBCGiV",
        "outputId": "b0fbfbce-a99d-4b11-e4c5-64675774b88c"
      },
      "source": [
        "pip install simpy"
      ],
      "execution_count": 2,
      "outputs": [
        {
          "output_type": "stream",
          "name": "stdout",
          "text": [
            "Collecting simpy\n",
            "  Downloading simpy-4.0.1-py2.py3-none-any.whl (29 kB)\n",
            "Installing collected packages: simpy\n",
            "Successfully installed simpy-4.0.1\n"
          ]
        }
      ]
    },
    {
      "cell_type": "markdown",
      "metadata": {
        "id": "NRLxkJjaOh_a"
      },
      "source": [
        "## Generator functions vs regular python functions\n",
        "\n",
        "The Python instruction *yield* is one of the key ingredients in the simpy libraries, since it allows to suspend the process during a certain time period until the function is executed again. This is rather convenient when performing simulations of discrete-event systems. More information about Python generators can be found here: https://wiki.python.org/moin/Generators\n",
        "\n",
        "Let's start by a short expample to show the differences between regular functions and generator functions. "
      ]
    },
    {
      "cell_type": "code",
      "metadata": {
        "id": "ATIm23ThOky9"
      },
      "source": [
        "def mygen(n): \n",
        "    while True: \n",
        "      for j in range(10):\n",
        "        yield j\n",
        "def myfun(n): \n",
        "    while True: \n",
        "      for j in range(10):\n",
        "        return j"
      ],
      "execution_count": 3,
      "outputs": []
    },
    {
      "cell_type": "markdown",
      "metadata": {
        "id": "vyc9ohOZ-FFv"
      },
      "source": [
        "In a regular function, the output will always be zero since it returns the first value of the for iterator:\n"
      ]
    },
    {
      "cell_type": "code",
      "metadata": {
        "colab": {
          "base_uri": "https://localhost:8080/"
        },
        "id": "-9YKiUm7WKKC",
        "outputId": "a6ca6d59-f07a-434f-e036-f34719a5e14c"
      },
      "source": [
        "myfun(10)"
      ],
      "execution_count": 4,
      "outputs": [
        {
          "output_type": "execute_result",
          "data": {
            "text/plain": [
              "0"
            ]
          },
          "metadata": {},
          "execution_count": 4
        }
      ]
    },
    {
      "cell_type": "code",
      "metadata": {
        "colab": {
          "base_uri": "https://localhost:8080/"
        },
        "id": "5OOP3nD--Vxp",
        "outputId": "a09a9717-0b79-4dd7-ac5e-56ce2ad46caa"
      },
      "source": [
        "myfun(10)"
      ],
      "execution_count": 5,
      "outputs": [
        {
          "output_type": "execute_result",
          "data": {
            "text/plain": [
              "0"
            ]
          },
          "metadata": {},
          "execution_count": 5
        }
      ]
    },
    {
      "cell_type": "markdown",
      "metadata": {
        "id": "9ftGga2nWvZk"
      },
      "source": [
        "In a generator function, local variables and theirs states are remembered between successive calls:"
      ]
    },
    {
      "cell_type": "code",
      "metadata": {
        "id": "hGM9uLCrO9gK"
      },
      "source": [
        "out1 = mygen(10)"
      ],
      "execution_count": 15,
      "outputs": []
    },
    {
      "cell_type": "code",
      "metadata": {
        "colab": {
          "base_uri": "https://localhost:8080/"
        },
        "id": "7oNMNhqrXy2g",
        "outputId": "f0ac25e5-9f45-4889-bd0b-71e4d7a6b9db"
      },
      "source": [
        "out1"
      ],
      "execution_count": 16,
      "outputs": [
        {
          "output_type": "execute_result",
          "data": {
            "text/plain": [
              "<generator object mygen at 0x7f46e23e2d50>"
            ]
          },
          "metadata": {},
          "execution_count": 16
        }
      ]
    },
    {
      "cell_type": "code",
      "metadata": {
        "colab": {
          "base_uri": "https://localhost:8080/"
        },
        "id": "xvDzWFs3WZVx",
        "outputId": "4341b368-cf96-48df-af80-e83919e38d13"
      },
      "source": [
        "next(out1)\n"
      ],
      "execution_count": 17,
      "outputs": [
        {
          "output_type": "execute_result",
          "data": {
            "text/plain": [
              "0"
            ]
          },
          "metadata": {},
          "execution_count": 17
        }
      ]
    },
    {
      "cell_type": "code",
      "metadata": {
        "colab": {
          "base_uri": "https://localhost:8080/"
        },
        "id": "-MOvpY5rX1cC",
        "outputId": "324d95fe-68bd-4a96-8e67-01ac62fa06c7"
      },
      "source": [
        "next(out1)\n"
      ],
      "execution_count": 18,
      "outputs": [
        {
          "output_type": "execute_result",
          "data": {
            "text/plain": [
              "1"
            ]
          },
          "metadata": {},
          "execution_count": 18
        }
      ]
    },
    {
      "cell_type": "code",
      "metadata": {
        "colab": {
          "base_uri": "https://localhost:8080/"
        },
        "id": "0Vo5hon4X3dx",
        "outputId": "cbb70bb7-0ea8-4808-c64a-1c46cc6a4b59"
      },
      "source": [
        "next(out1)\n"
      ],
      "execution_count": 19,
      "outputs": [
        {
          "output_type": "execute_result",
          "data": {
            "text/plain": [
              "2"
            ]
          },
          "metadata": {},
          "execution_count": 19
        }
      ]
    },
    {
      "cell_type": "markdown",
      "metadata": {
        "id": "ZtnIULjiXcQ3"
      },
      "source": [
        "# Some simpy introductory examples:\n",
        "\n",
        "## Example 1: Traffic light: \n",
        "The first example is a basic loop simulating a traffic light that is green for 25 seconds, yellow during 5 seconds and red for 60 seconds. By executing the simulation we can see at wehich times the trafficl light changes its state.\n",
        "\n",
        "An important event type is the Timeout. Events of this type are triggered after a certain amount of (simulated) time has passed. They allow a process to sleep (or hold its state) for the given time. A Timeout and all other events can be created by calling the appropriate method of the Environment that the process lives in (Environment.timeout() for example)"
      ]
    },
    {
      "cell_type": "code",
      "metadata": {
        "colab": {
          "base_uri": "https://localhost:8080/"
        },
        "id": "G1vRVrcQXg02",
        "outputId": "e67018a2-0cdd-4b39-8653-a31e5dfae825"
      },
      "source": [
        "import simpy\n",
        "\n",
        "# Generator function that defines the working of the traffic light  \n",
        "# \"timeout()\" function makes next yield statement wait for a  \n",
        "# given time passed as the argument  \n",
        "def Traffic_Light(env):  \n",
        "  \n",
        "    while True:  \n",
        "  \n",
        "        print (\"Light turns GRN at \" + str(env.now))  \n",
        "          \n",
        "        # Light is green for 25 seconds  \n",
        "        yield env.timeout(25)         \n",
        "  \n",
        "        print (\"Light turns YEL at \" + str(env.now)) \n",
        "          \n",
        "        # Light is yellow for 5 seconds  \n",
        "        yield env.timeout(5)  \n",
        "  \n",
        "        print (\"Light turns RED at \" + str(env.now))  \n",
        "          \n",
        "        # Light is red for 60 seconds  \n",
        "        yield env.timeout(60)  \n",
        "  \n",
        "# env is the environment variable  \n",
        "env = simpy.Environment()         \n",
        "  \n",
        "# The process defined by the function Traffic_Light(env)  \n",
        "# is added to the environment  \n",
        "env.process(Traffic_Light(env))  \n",
        "  \n",
        "# The process is run for the first 180 seconds (180 is not included)  \n",
        "env.run(until = 180)  "
      ],
      "execution_count": 11,
      "outputs": [
        {
          "output_type": "stream",
          "name": "stdout",
          "text": [
            "Light turns GRN at 0\n",
            "Light turns YEL at 25\n",
            "Light turns RED at 30\n",
            "Light turns GRN at 90\n",
            "Light turns YEL at 115\n",
            "Light turns RED at 120\n"
          ]
        }
      ]
    },
    {
      "cell_type": "markdown",
      "metadata": {
        "id": "Sxk7azEuYdIy"
      },
      "source": [
        "## Example 2: Parking lot\n",
        "\n",
        "In this case, the simulation of a parking lot "
      ]
    },
    {
      "cell_type": "code",
      "metadata": {
        "colab": {
          "base_uri": "https://localhost:8080/"
        },
        "id": "mCdz2Pe8DRST",
        "outputId": "46b29b6a-06c7-417d-f512-ab62659235b1"
      },
      "source": [
        "def car(env):\n",
        "  while True:\n",
        "    print('Start parking at %d' % env.now)\n",
        "    parking_duration = 5\n",
        "    yield env.timeout(parking_duration)\n",
        "\n",
        "    print('Start driving at %d' % env.now)\n",
        "    trip_duration = 2\n",
        "    yield env.timeout(trip_duration)\n",
        "    \n",
        "env = simpy.Environment()\n",
        "env.process(car(env))\n",
        "env.run(until=60)"
      ],
      "execution_count": 12,
      "outputs": [
        {
          "output_type": "stream",
          "name": "stdout",
          "text": [
            "Start parking at 0\n",
            "Start driving at 5\n",
            "Start parking at 7\n",
            "Start driving at 12\n",
            "Start parking at 14\n",
            "Start driving at 19\n",
            "Start parking at 21\n",
            "Start driving at 26\n",
            "Start parking at 28\n",
            "Start driving at 33\n",
            "Start parking at 35\n",
            "Start driving at 40\n",
            "Start parking at 42\n",
            "Start driving at 47\n",
            "Start parking at 49\n",
            "Start driving at 54\n",
            "Start parking at 56\n"
          ]
        }
      ]
    },
    {
      "cell_type": "markdown",
      "metadata": {
        "id": "JWb7JQZWc0_p"
      },
      "source": [
        "## Example 3: Two clocks\n",
        "\n",
        "Adapted from: https://simpy.readthedocs.io/en/latest/index.html\n",
        "\n",
        "One fast, one slow"
      ]
    },
    {
      "cell_type": "code",
      "metadata": {
        "colab": {
          "base_uri": "https://localhost:8080/"
        },
        "id": "50lxwVoqFu9K",
        "outputId": "6ae477a9-8466-4acd-8332-0111eb48e66e"
      },
      "source": [
        "import simpy\n",
        "\n",
        "def clock(env, name, tick):\n",
        "  while True:\n",
        "    print(name, env.now)\n",
        "    yield env.timeout(tick)\n",
        "\n",
        "env = simpy.Environment()\n",
        "env.process(clock(env, 'fast', 0.5))\n",
        "env.process(clock(env, 'slow', 1))\n",
        "env.run(until=10)"
      ],
      "execution_count": 13,
      "outputs": [
        {
          "output_type": "stream",
          "name": "stdout",
          "text": [
            "fast 0\n",
            "slow 0\n",
            "fast 0.5\n",
            "slow 1\n",
            "fast 1.0\n",
            "fast 1.5\n",
            "slow 2\n",
            "fast 2.0\n",
            "fast 2.5\n",
            "slow 3\n",
            "fast 3.0\n",
            "fast 3.5\n",
            "slow 4\n",
            "fast 4.0\n",
            "fast 4.5\n",
            "slow 5\n",
            "fast 5.0\n",
            "fast 5.5\n",
            "slow 6\n",
            "fast 6.0\n",
            "fast 6.5\n",
            "slow 7\n",
            "fast 7.0\n",
            "fast 7.5\n",
            "slow 8\n",
            "fast 8.0\n",
            "fast 8.5\n",
            "slow 9\n",
            "fast 9.0\n",
            "fast 9.5\n"
          ]
        }
      ]
    },
    {
      "cell_type": "markdown",
      "metadata": {
        "id": "YrS7HJmfdQS7"
      },
      "source": [
        "## Example 4: A simple queue system\n",
        "\n",
        "Adapted from: https://simpy.readthedocs.io/en/latest/examples/bank_renege.html?highlight=random\n",
        "\n",
        "A total of **NEW_CUSTOMERS** customers arrive randomly following an exponential arrival time with a mean Time Between Arrivals specified by parameter **INTERVAL_CUSTOMERS**. \n",
        "\n",
        "The code defines a generator function called *source* to randomly generate the customers, and a generator function *customer* in which the customers are served. Customers can renege and leave when waiting a certain random time in the interval **[MIN_PATIENCE, MAX_PATIENCE]**\n",
        "\n",
        "\n"
      ]
    },
    {
      "cell_type": "code",
      "metadata": {
        "colab": {
          "base_uri": "https://localhost:8080/"
        },
        "id": "uBhdSvqof19v",
        "outputId": "1b422430-9eca-4c3c-e9e9-59524c452c6c"
      },
      "source": [
        "import random\n",
        "import simpy\n",
        "\n",
        "RANDOM_SEED = 42\n",
        "NEW_CUSTOMERS = 10  # Total number of customers\n",
        "INTERVAL_CUSTOMERS = 3.0  # Generate new customers roughly every x seconds\n",
        "MIN_PATIENCE = 1  # Min. customer patience\n",
        "MAX_PATIENCE = 3  # Max. customer patience\n",
        "\n",
        "\n",
        "def source(env, number, interval, counter):\n",
        "    \"\"\"Source generates customers randomly\"\"\"\n",
        "    for i in range(number):\n",
        "        c = customer(env, 'Customer%02d' % i, counter, time_in_bank=12.0)\n",
        "        env.process(c)\n",
        "        t = random.expovariate(1.0 / interval)\n",
        "        yield env.timeout(t)\n",
        "\n",
        "\n",
        "def customer(env, name, counter, time_in_bank):\n",
        "    \"\"\"Customer arrives, is served and leaves.\"\"\"\n",
        "    arrive = env.now\n",
        "    print('%7.4f %s: Here I am' % (arrive, name))\n",
        "\n",
        "    with counter.request() as req:\n",
        "        patience = random.uniform(MIN_PATIENCE, MAX_PATIENCE)\n",
        "        # Wait for the counter or abort at the end of our tether\n",
        "        results = yield req | env.timeout(patience)\n",
        "\n",
        "        wait = env.now - arrive\n",
        "\n",
        "        if req in results:\n",
        "            # We got to the counter\n",
        "            print('%7.4f %s: Waited %6.3f' % (env.now, name, wait))\n",
        "\n",
        "            tib = random.expovariate(1.0 / time_in_bank)\n",
        "            yield env.timeout(tib)\n",
        "            print('%7.4f %s: Finished' % (env.now, name))\n",
        "\n",
        "        else:\n",
        "            # We reneged\n",
        "            print('%7.4f %s: RENEGED after %6.3f' % (env.now, name, wait))\n",
        "\n",
        "# Setup and start the simulation\n",
        "print('Bank renege')\n",
        "random.seed(RANDOM_SEED)\n",
        "env = simpy.Environment()\n",
        "\n",
        "# Start processes and run\n",
        "counter = simpy.Resource(env, capacity=1)\n",
        "env.process(source(env, NEW_CUSTOMERS, INTERVAL_CUSTOMERS, counter))\n",
        "env.run()"
      ],
      "execution_count": 14,
      "outputs": [
        {
          "output_type": "stream",
          "name": "stdout",
          "text": [
            "Bank renege\n",
            " 0.0000 Customer00: Here I am\n",
            " 0.0000 Customer00: Waited  0.000\n",
            " 3.0602 Customer01: Here I am\n",
            " 3.8179 Customer02: Here I am\n",
            " 3.8595 Customer00: Finished\n",
            " 3.8595 Customer01: Waited  0.799\n",
            " 4.9509 Customer01: Finished\n",
            " 4.9509 Customer02: Waited  1.133\n",
            " 7.2055 Customer03: Here I am\n",
            " 7.2962 Customer04: Here I am\n",
            " 8.3493 Customer04: RENEGED after  1.053\n",
            " 8.6427 Customer03: RENEGED after  1.437\n",
            " 9.4080 Customer05: Here I am\n",
            "10.0730 Customer06: Here I am\n",
            "11.5139 Customer06: RENEGED after  1.441\n",
            "11.5275 Customer02: Finished\n",
            "11.5275 Customer05: Waited  2.120\n",
            "12.4350 Customer07: Here I am\n",
            "13.4480 Customer07: RENEGED after  1.013\n",
            "17.4082 Customer08: Here I am\n",
            "19.8045 Customer08: RENEGED after  2.396\n",
            "22.2052 Customer05: Finished\n",
            "22.3251 Customer09: Here I am\n",
            "22.3251 Customer09: Waited  0.000\n",
            "60.1434 Customer09: Finished\n"
          ]
        }
      ]
    },
    {
      "cell_type": "markdown",
      "metadata": {
        "id": "C5L6PJNey7rk"
      },
      "source": [
        "## Example 5: Guitar manufacturing plant\n",
        "\n",
        "Example taken from https://towardsdatascience.com/manufacturing-simulation-using-simpy-5b432ba05d98\n",
        "\n",
        "Codes can be obtained from https://github.com/juanhorgan/guitar_factory\n",
        "\n",
        "**Process workflow**\n",
        "\n",
        "There are 2 main containers. Wood and Electronic. Those containers have an N amount of wood/electronic components that going to be use in the process.\n",
        "The body make get a piece of wood from the container and transform it into a body, which will be stored in the Body storage. The same thing happen with the neck builder, but from one piece of wood, he will get two necks. The necks are stored in the Neck storage.\n",
        "Painter pick necks and bodies, paint them, and store them in Body storage 2 and Neck storage 2.\n",
        "Assembler picks a body, a neck and one piece of electronics, and assemble the guitar, which will be store in the Dispatch container.\n",
        "After an N amount of guitars are made, store send someone to pick them up.\n",
        "When Wood or Electronic are bellow a certain level of raw material, a call to the Supplier is made. After T days, supplier arrives to the factory and refill the container with raw material.\n",
        "\n",
        "\n",
        "The last part of the code includes a simulation of the plant for 40 hours (8 hours per business day * 5 business days)\n"
      ]
    },
    {
      "cell_type": "code",
      "metadata": {
        "id": "-wjGaHGXmapC",
        "colab": {
          "base_uri": "https://localhost:8080/"
        },
        "outputId": "24502bac-38f0-4bcc-a056-f8eab06e205b"
      },
      "source": [
        "import simpy\n",
        "\n",
        "print(f'STARTING SIMULATION')\n",
        "print(f'----------------------------------')\n",
        "\n",
        "#-------------------------------------------------\n",
        "\n",
        "#Parameters\n",
        "\n",
        "#working hours\n",
        "hours = 8\n",
        "\n",
        "#business days\n",
        "days = 5\n",
        "\n",
        "#total working time (hours)\n",
        "total_time = hours * days\n",
        "\n",
        "#containers\n",
        "    #wood\n",
        "wood_capacity = 1000\n",
        "initial_wood = 500\n",
        "\n",
        "    #dispatch\n",
        "dispatch_capacity = 500\n",
        "\n",
        "#-------------------------------------------------\n",
        "\n",
        "class Guitar_Factory:\n",
        "    def __init__(self, env):\n",
        "        self.wood = simpy.Container(env, capacity = wood_capacity, init = initial_wood)\n",
        "        self.dispatch = simpy.Container(env ,capacity = dispatch_capacity, init = 0)\n",
        "        \n",
        "def body_maker(env, guitar_factory):\n",
        "    while True:\n",
        "        yield guitar_factory.wood.get(1)\n",
        "        body_time = 1\n",
        "        yield env.timeout(body_time)\n",
        "        yield guitar_factory.dispatch.put(1)\n",
        "\n",
        "def neck_maker(env, guitar_factory):\n",
        "    while True:\n",
        "        yield guitar_factory.wood.get(1)\n",
        "        neck_time = 1\n",
        "        yield env.timeout(neck_time)\n",
        "        yield guitar_factory.dispatch.put(2)\n",
        "\n",
        "\n",
        "#-------------------------------------------------\n",
        "        \n",
        "\n",
        "env = simpy.Environment()\n",
        "guitar_factory = Guitar_Factory(env)\n",
        "\n",
        "body_maker_process = env.process(body_maker(env, guitar_factory))\n",
        "neck_maker_process = env.process(neck_maker(env, guitar_factory))\n",
        "\n",
        "\n",
        "env.run(until = total_time)\n",
        "\n",
        "\n",
        "print(f'Dispatch has %d bodies and necks ready to go!' % guitar_factory.dispatch.level)\n",
        "print(f'----------------------------------')\n",
        "print(f'SIMULATION COMPLETED')"
      ],
      "execution_count": 3,
      "outputs": [
        {
          "output_type": "stream",
          "name": "stdout",
          "text": [
            "STARTING SIMULATION\n",
            "----------------------------------\n",
            "Dispatch has 117 bodies and necks ready to go!\n",
            "----------------------------------\n",
            "SIMULATION COMPLETED\n"
          ]
        }
      ]
    },
    {
      "cell_type": "code",
      "metadata": {
        "id": "3IwnAShSzKV8"
      },
      "source": [
        ""
      ],
      "execution_count": null,
      "outputs": []
    }
  ]
}