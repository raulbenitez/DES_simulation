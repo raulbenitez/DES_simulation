{
  "nbformat": 4,
  "nbformat_minor": 0,
  "metadata": {
    "colab": {
      "name": "Introduction_to_simpy_DES.ipynb",
      "provenance": []
    },
    "kernelspec": {
      "name": "python3",
      "display_name": "Python 3"
    }
  },
  "cells": [
    {
      "cell_type": "markdown",
      "metadata": {
        "id": "0CFgLA7N-bt1"
      },
      "source": [
        "# INTRODUCTION TO DES simulation with simpy\n",
        "\n",
        "Simpy is a Python library to design process-based discrete-event simulation systems. Detailed documentation can be found here:\n",
        "\n",
        "https://pypi.org/project/simpy/\n",
        "\n",
        "\n"
      ]
    },
    {
      "cell_type": "code",
      "metadata": {
        "colab": {
          "base_uri": "https://localhost:8080/"
        },
        "id": "YJdGCadBCGiV",
        "outputId": "8507b328-9d8b-4312-f7fb-207e5a3b4cfd"
      },
      "source": [
        "pip install simpy"
      ],
      "execution_count": 1,
      "outputs": [
        {
          "output_type": "stream",
          "text": [
            "Collecting simpy\n",
            "  Downloading https://files.pythonhosted.org/packages/20/f9/874b0bab83406827db93292a5bbe5acb5c18e3cea665b2f6e053292cb687/simpy-4.0.1-py2.py3-none-any.whl\n",
            "Installing collected packages: simpy\n",
            "Successfully installed simpy-4.0.1\n"
          ],
          "name": "stdout"
        }
      ]
    },
    {
      "cell_type": "markdown",
      "metadata": {
        "id": "NRLxkJjaOh_a"
      },
      "source": [
        "## Generator functions vs regular python functions\n",
        "\n",
        "The Python instruction *yield* is one of the key ingredients in the simpy libraries, since it allows to suspend the process during a certain time period until the function is executed again. This is rather convenient when performing simulations of discrete-event systems. More information about Python generators can be found here: https://wiki.python.org/moin/Generators\n",
        "\n",
        "Let's start by a short expample to show the differences between regular functions and generator functions. "
      ]
    },
    {
      "cell_type": "code",
      "metadata": {
        "id": "ATIm23ThOky9"
      },
      "source": [
        "def mygen(n): \n",
        "    while True: \n",
        "      for j in range(10):\n",
        "        yield j\n",
        "def myfun(n): \n",
        "    while True: \n",
        "      for j in range(10):\n",
        "        return j"
      ],
      "execution_count": 2,
      "outputs": []
    },
    {
      "cell_type": "markdown",
      "metadata": {
        "id": "vyc9ohOZ-FFv"
      },
      "source": [
        "In a regular function, the output will always be zero since it returns the first value of the for iterator:\n"
      ]
    },
    {
      "cell_type": "code",
      "metadata": {
        "colab": {
          "base_uri": "https://localhost:8080/"
        },
        "id": "-9YKiUm7WKKC",
        "outputId": "15db7a70-9ca1-46b4-94d5-c31fe58a02e8"
      },
      "source": [
        "myfun(10)"
      ],
      "execution_count": 4,
      "outputs": [
        {
          "output_type": "execute_result",
          "data": {
            "text/plain": [
              "0"
            ]
          },
          "metadata": {
            "tags": []
          },
          "execution_count": 4
        }
      ]
    },
    {
      "cell_type": "code",
      "metadata": {
        "colab": {
          "base_uri": "https://localhost:8080/"
        },
        "id": "5OOP3nD--Vxp",
        "outputId": "222e5dd1-d5e0-4ae9-bef0-b39e72289262"
      },
      "source": [
        "myfun(10)"
      ],
      "execution_count": 5,
      "outputs": [
        {
          "output_type": "execute_result",
          "data": {
            "text/plain": [
              "0"
            ]
          },
          "metadata": {
            "tags": []
          },
          "execution_count": 5
        }
      ]
    },
    {
      "cell_type": "markdown",
      "metadata": {
        "id": "9ftGga2nWvZk"
      },
      "source": [
        "In a generator function, local variables and theirs states are remembered between successive calls:"
      ]
    },
    {
      "cell_type": "code",
      "metadata": {
        "id": "hGM9uLCrO9gK"
      },
      "source": [
        "out1 = mygen(10)"
      ],
      "execution_count": 6,
      "outputs": []
    },
    {
      "cell_type": "code",
      "metadata": {
        "colab": {
          "base_uri": "https://localhost:8080/"
        },
        "id": "7oNMNhqrXy2g",
        "outputId": "77682758-47ad-485f-e3c4-7cb4b91b9326"
      },
      "source": [
        "out1"
      ],
      "execution_count": 7,
      "outputs": [
        {
          "output_type": "execute_result",
          "data": {
            "text/plain": [
              "<generator object mygen at 0x7fd3c8a16fc0>"
            ]
          },
          "metadata": {
            "tags": []
          },
          "execution_count": 7
        }
      ]
    },
    {
      "cell_type": "code",
      "metadata": {
        "colab": {
          "base_uri": "https://localhost:8080/"
        },
        "id": "xvDzWFs3WZVx",
        "outputId": "4445f291-6f12-4300-8f95-e31755d48559"
      },
      "source": [
        "next(out1)\n"
      ],
      "execution_count": 8,
      "outputs": [
        {
          "output_type": "execute_result",
          "data": {
            "text/plain": [
              "0"
            ]
          },
          "metadata": {
            "tags": []
          },
          "execution_count": 8
        }
      ]
    },
    {
      "cell_type": "code",
      "metadata": {
        "colab": {
          "base_uri": "https://localhost:8080/"
        },
        "id": "-MOvpY5rX1cC",
        "outputId": "15a0819d-1583-470a-96fd-1cf6c0b54eb0"
      },
      "source": [
        "next(out1)\n"
      ],
      "execution_count": 9,
      "outputs": [
        {
          "output_type": "execute_result",
          "data": {
            "text/plain": [
              "1"
            ]
          },
          "metadata": {
            "tags": []
          },
          "execution_count": 9
        }
      ]
    },
    {
      "cell_type": "code",
      "metadata": {
        "colab": {
          "base_uri": "https://localhost:8080/"
        },
        "id": "0Vo5hon4X3dx",
        "outputId": "375ba1a7-1749-4e60-c24d-72e14be71e49"
      },
      "source": [
        "next(out1)\n"
      ],
      "execution_count": 11,
      "outputs": [
        {
          "output_type": "execute_result",
          "data": {
            "text/plain": [
              "3"
            ]
          },
          "metadata": {
            "tags": []
          },
          "execution_count": 11
        }
      ]
    },
    {
      "cell_type": "markdown",
      "metadata": {
        "id": "ZtnIULjiXcQ3"
      },
      "source": [
        "# Some simpy introductory examples:\n",
        "\n",
        "## Example 1: Traffic light: \n",
        "The first example is a basic loop simulating a traffic light that is green for 25 seconds, yellow during 5 seconds and red for 60 seconds. By executing the simulation we can see at wehich times the trafficl light changes its state:"
      ]
    },
    {
      "cell_type": "code",
      "metadata": {
        "colab": {
          "base_uri": "https://localhost:8080/"
        },
        "id": "G1vRVrcQXg02",
        "outputId": "b19a6370-a14b-4123-a45a-5b2dfaa5d61e"
      },
      "source": [
        "import simpy\n",
        "\n",
        "# Generator function that defines the working of the traffic light  \n",
        "# \"timeout()\" function makes next yield statement wait for a  \n",
        "# given time passed as the argument  \n",
        "def Traffic_Light(env):  \n",
        "  \n",
        "    while True:  \n",
        "  \n",
        "        print (\"Light turns GRN at \" + str(env.now))  \n",
        "          \n",
        "        # Light is green for 25 seconds  \n",
        "        yield env.timeout(25)         \n",
        "  \n",
        "        print (\"Light turns YEL at \" + str(env.now)) \n",
        "          \n",
        "        # Light is yellow for 5 seconds  \n",
        "        yield env.timeout(5)  \n",
        "  \n",
        "        print (\"Light turns RED at \" + str(env.now))  \n",
        "          \n",
        "        # Light is red for 60 seconds  \n",
        "        yield env.timeout(60)  \n",
        "  \n",
        "# env is the environment variable  \n",
        "env = simpy.Environment()         \n",
        "  \n",
        "# The process defined by the function Traffic_Light(env)  \n",
        "# is added to the environment  \n",
        "env.process(Traffic_Light(env))  \n",
        "  \n",
        "# The process is run for the first 180 seconds (180 is not included)  \n",
        "env.run(until = 180)  "
      ],
      "execution_count": 12,
      "outputs": [
        {
          "output_type": "stream",
          "text": [
            "Light turns GRN at 0\n",
            "Light turns YEL at 25\n",
            "Light turns RED at 30\n",
            "Light turns GRN at 90\n",
            "Light turns YEL at 115\n",
            "Light turns RED at 120\n"
          ],
          "name": "stdout"
        }
      ]
    },
    {
      "cell_type": "markdown",
      "metadata": {
        "id": "Sxk7azEuYdIy"
      },
      "source": [
        "## Example 2: Parking lot\n",
        "\n",
        "In this case, the simulation of a parking lot "
      ]
    },
    {
      "cell_type": "code",
      "metadata": {
        "colab": {
          "base_uri": "https://localhost:8080/"
        },
        "id": "mCdz2Pe8DRST",
        "outputId": "d6feb13b-7952-48e5-8576-8872fbd60efb"
      },
      "source": [
        "def car(env):\n",
        "  while True:\n",
        "    print('Start parking at %d' % env.now)\n",
        "    parking_duration = 5\n",
        "    yield env.timeout(parking_duration)\n",
        "\n",
        "    print('Start driving at %d' % env.now)\n",
        "    trip_duration = 2\n",
        "    yield env.timeout(trip_duration)\n",
        "    \n",
        "env = simpy.Environment()\n",
        "env.process(car(env))\n",
        "env.run(until=60)"
      ],
      "execution_count": null,
      "outputs": [
        {
          "output_type": "stream",
          "text": [
            "Start parking at 0\n",
            "Start driving at 5\n",
            "Start parking at 7\n",
            "Start driving at 12\n",
            "Start parking at 14\n",
            "Start driving at 19\n",
            "Start parking at 21\n",
            "Start driving at 26\n",
            "Start parking at 28\n",
            "Start driving at 33\n",
            "Start parking at 35\n",
            "Start driving at 40\n",
            "Start parking at 42\n",
            "Start driving at 47\n",
            "Start parking at 49\n",
            "Start driving at 54\n",
            "Start parking at 56\n"
          ],
          "name": "stdout"
        }
      ]
    },
    {
      "cell_type": "markdown",
      "metadata": {
        "id": "JWb7JQZWc0_p"
      },
      "source": [
        "## Example 3: Two clocks\n",
        "\n",
        "Adapted from: https://simpy.readthedocs.io/en/latest/index.html\n",
        "\n",
        "One fast, one slow"
      ]
    },
    {
      "cell_type": "code",
      "metadata": {
        "colab": {
          "base_uri": "https://localhost:8080/"
        },
        "id": "50lxwVoqFu9K",
        "outputId": "8081c354-9f42-4827-b5de-bb8fe85ed74e"
      },
      "source": [
        "import simpy\n",
        "\n",
        "def clock(env, name, tick):\n",
        "  while True:\n",
        "    print(name, env.now)\n",
        "    yield env.timeout(tick)\n",
        "\n",
        "env = simpy.Environment()\n",
        "env.process(clock(env, 'fast', 0.5))\n",
        "env.process(clock(env, 'slow', 1))\n",
        "env.run(until=10)"
      ],
      "execution_count": 13,
      "outputs": [
        {
          "output_type": "stream",
          "text": [
            "fast 0\n",
            "slow 0\n",
            "fast 0.5\n",
            "slow 1\n",
            "fast 1.0\n",
            "fast 1.5\n",
            "slow 2\n",
            "fast 2.0\n",
            "fast 2.5\n",
            "slow 3\n",
            "fast 3.0\n",
            "fast 3.5\n",
            "slow 4\n",
            "fast 4.0\n",
            "fast 4.5\n",
            "slow 5\n",
            "fast 5.0\n",
            "fast 5.5\n",
            "slow 6\n",
            "fast 6.0\n",
            "fast 6.5\n",
            "slow 7\n",
            "fast 7.0\n",
            "fast 7.5\n",
            "slow 8\n",
            "fast 8.0\n",
            "fast 8.5\n",
            "slow 9\n",
            "fast 9.0\n",
            "fast 9.5\n"
          ],
          "name": "stdout"
        }
      ]
    },
    {
      "cell_type": "markdown",
      "metadata": {
        "id": "YrS7HJmfdQS7"
      },
      "source": [
        "## Example 4: A simple queue system\n",
        "\n",
        "Adapted from: https://simpy.readthedocs.io/en/latest/examples/bank_renege.html?highlight=random\n",
        "\n",
        "A total of **NEW_CUSTOMERS** customers arrive randomly following an exponential arrival time with a mean Time Between Arrivals specified by parameter **INTERVAL_CUSTOMERS**. \n",
        "\n",
        "The code defines a generator function called *source* to randomly generate the customers, and a generator function *customer* in which the customers are served. Customers can renege and leave when waiting a certain random time in the interval **[MIN_PATIENCE, MAX_PATIENCE]**\n",
        "\n",
        "\n"
      ]
    },
    {
      "cell_type": "code",
      "metadata": {
        "colab": {
          "base_uri": "https://localhost:8080/"
        },
        "id": "uBhdSvqof19v",
        "outputId": "95f92a8f-37f8-4fe6-f681-f3b45f7caf91"
      },
      "source": [
        "import random\n",
        "import simpy\n",
        "\n",
        "RANDOM_SEED = 42\n",
        "NEW_CUSTOMERS = 10  # Total number of customers\n",
        "INTERVAL_CUSTOMERS = 3.0  # Generate new customers roughly every x seconds\n",
        "MIN_PATIENCE = 1  # Min. customer patience\n",
        "MAX_PATIENCE = 3  # Max. customer patience\n",
        "\n",
        "\n",
        "def source(env, number, interval, counter):\n",
        "    \"\"\"Source generates customers randomly\"\"\"\n",
        "    for i in range(number):\n",
        "        c = customer(env, 'Customer%02d' % i, counter, time_in_bank=12.0)\n",
        "        env.process(c)\n",
        "        t = random.expovariate(1.0 / interval)\n",
        "        yield env.timeout(t)\n",
        "\n",
        "\n",
        "def customer(env, name, counter, time_in_bank):\n",
        "    \"\"\"Customer arrives, is served and leaves.\"\"\"\n",
        "    arrive = env.now\n",
        "    print('%7.4f %s: Here I am' % (arrive, name))\n",
        "\n",
        "    with counter.request() as req:\n",
        "        patience = random.uniform(MIN_PATIENCE, MAX_PATIENCE)\n",
        "        # Wait for the counter or abort at the end of our tether\n",
        "        results = yield req | env.timeout(patience)\n",
        "\n",
        "        wait = env.now - arrive\n",
        "\n",
        "        if req in results:\n",
        "            # We got to the counter\n",
        "            print('%7.4f %s: Waited %6.3f' % (env.now, name, wait))\n",
        "\n",
        "            tib = random.expovariate(1.0 / time_in_bank)\n",
        "            yield env.timeout(tib)\n",
        "            print('%7.4f %s: Finished' % (env.now, name))\n",
        "\n",
        "        else:\n",
        "            # We reneged\n",
        "            print('%7.4f %s: RENEGED after %6.3f' % (env.now, name, wait))\n",
        "\n",
        "# Setup and start the simulation\n",
        "print('Bank renege')\n",
        "random.seed(RANDOM_SEED)\n",
        "env = simpy.Environment()\n",
        "\n",
        "# Start processes and run\n",
        "counter = simpy.Resource(env, capacity=1)\n",
        "env.process(source(env, NEW_CUSTOMERS, INTERVAL_CUSTOMERS, counter))\n",
        "env.run()"
      ],
      "execution_count": null,
      "outputs": [
        {
          "output_type": "stream",
          "text": [
            "Bank renege\n",
            " 0.0000 Customer00: Here I am\n",
            " 0.0000 Customer00: Waited  0.000\n",
            " 3.0602 Customer01: Here I am\n",
            " 3.8179 Customer02: Here I am\n",
            " 3.8595 Customer00: Finished\n",
            " 3.8595 Customer01: Waited  0.799\n",
            " 4.9509 Customer01: Finished\n",
            " 4.9509 Customer02: Waited  1.133\n",
            " 7.2055 Customer03: Here I am\n",
            " 7.2962 Customer04: Here I am\n",
            " 8.3493 Customer04: RENEGED after  1.053\n",
            " 8.6427 Customer03: RENEGED after  1.437\n",
            " 9.4080 Customer05: Here I am\n",
            "10.0730 Customer06: Here I am\n",
            "11.5139 Customer06: RENEGED after  1.441\n",
            "11.5275 Customer02: Finished\n",
            "11.5275 Customer05: Waited  2.120\n",
            "12.4350 Customer07: Here I am\n",
            "13.4480 Customer07: RENEGED after  1.013\n",
            "17.4082 Customer08: Here I am\n",
            "19.8045 Customer08: RENEGED after  2.396\n",
            "22.2052 Customer05: Finished\n",
            "22.3251 Customer09: Here I am\n",
            "22.3251 Customer09: Waited  0.000\n",
            "60.1434 Customer09: Finished\n"
          ],
          "name": "stdout"
        }
      ]
    },
    {
      "cell_type": "code",
      "metadata": {
        "id": "-wjGaHGXmapC"
      },
      "source": [
        ""
      ],
      "execution_count": null,
      "outputs": []
    }
  ]
}